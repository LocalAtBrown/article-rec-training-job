{
 "cells": [
  {
   "cell_type": "code",
   "execution_count": null,
   "metadata": {},
   "outputs": [],
   "source": [
    "from google.cloud import bigquery\n",
    "from dataclasses import dataclass\n",
    "from datetime import date, timedelta\n",
    "from dotenv import load_dotenv\n",
    "import os\n",
    "from typing import List\n",
    "\n",
    "load_dotenv()"
   ]
  },
  {
   "cell_type": "markdown",
   "metadata": {},
   "source": [
    "## Fetch GCP data"
   ]
  },
  {
   "cell_type": "code",
   "execution_count": null,
   "metadata": {},
   "outputs": [],
   "source": [
    "project = os.environ[\"GCP_PROJECT_ID\"]\n",
    "client = bigquery.Client(project=project)"
   ]
  },
  {
   "cell_type": "code",
   "execution_count": null,
   "metadata": {},
   "outputs": [],
   "source": [
    "@dataclass\n",
    "class Site:\n",
    "    ga4_property_id: str\n",
    "    \n",
    "DALLAS_FREE_PRESS = Site(ga4_property_id=os.environ[\"DALLAS_FREE_PRESS_GA4_PROPERTY_ID\"])"
   ]
  },
  {
   "cell_type": "code",
   "execution_count": null,
   "metadata": {},
   "outputs": [],
   "source": [
    "def enumerate_query_dates(end_date: date, num_days: int) -> List[date]:\n",
    "    return [end_date - timedelta(days=i) for i in range(0, num_days)]\n",
    "\n",
    "def construct_event_table_name(gcp_project_id: str, site: Site, dt: date) -> str:\n",
    "    return f\"{gcp_project_id}.analytics_{site.ga4_property_id}.event_{dt.strftime('%Y%m%d')}\"\n",
    "\n",
    "num_days = 1\n",
    "query_dates = enumerate_query_dates(date(2023, 10, 15), num_days)"
   ]
  },
  {
   "cell_type": "code",
   "execution_count": null,
   "metadata": {},
   "outputs": [],
   "source": [
    "construct_event_table_name(project, DALLAS_FREE_PRESS, dt=query_dates[0])"
   ]
  },
  {
   "cell_type": "code",
   "execution_count": null,
   "metadata": {},
   "outputs": [],
   "source": []
  }
 ],
 "metadata": {
  "kernelspec": {
   "display_name": ".venv",
   "language": "python",
   "name": "python3"
  },
  "language_info": {
   "codemirror_mode": {
    "name": "ipython",
    "version": 3
   },
   "file_extension": ".py",
   "mimetype": "text/x-python",
   "name": "python",
   "nbconvert_exporter": "python",
   "pygments_lexer": "ipython3",
   "version": "3.8.13"
  }
 },
 "nbformat": 4,
 "nbformat_minor": 2
}

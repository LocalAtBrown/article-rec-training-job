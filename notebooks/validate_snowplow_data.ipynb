{
 "cells": [
  {
   "cell_type": "code",
   "execution_count": 1,
   "metadata": {},
   "outputs": [
    {
     "name": "stdout",
     "output_type": "stream",
     "text": [
      "time: 16.6 ms\n"
     ]
    }
   ],
   "source": [
    "import os\n",
    "os.environ['STAGE'] = 'local'\n",
    "import sys\n",
    "sys.path.append('..')"
   ]
  },
  {
   "cell_type": "code",
   "execution_count": 2,
   "metadata": {},
   "outputs": [
    {
     "name": "stdout",
     "output_type": "stream",
     "text": [
      "time: 1.34 s\n"
     ]
    }
   ],
   "source": [
    "import base64\n",
    "import boto3\n",
    "import json\n",
    "import matplotlib.pyplot as plt\n",
    "import numpy as np\n",
    "import pandas as pd\n",
    "import sys\n",
    "import thriftpy2 as thriftpy\n",
    "import traceback\n",
    "\n",
    "from itertools import product\n",
    "from matplotlib.ticker import ScalarFormatter\n",
    "from pprint import pprint as pp\n",
    "from scipy.sparse import csr_matrix\n",
    "from scipy.spatial import distance\n",
    "from scipy.stats import kendalltau\n",
    "from sklearn.cluster import KMeans\n",
    "from sklearn.preprocessing import MinMaxScaler\n",
    "from sklearn.metrics import classification_report\n",
    "from sklearn.neighbors import NearestNeighbors\n",
    "from thriftpy2.protocol import TCyBinaryProtocolFactory\n",
    "from thriftpy2.utils import deserialize, serialize\n",
    "from urllib import parse\n",
    "\n",
    "from job.preprocessors import *\n",
    "from job.models import *\n",
    "from job.helpers import *"
   ]
  },
  {
   "cell_type": "markdown",
   "metadata": {},
   "source": [
    "# Check unenriched data"
   ]
  },
  {
   "cell_type": "code",
   "execution_count": 4,
   "metadata": {},
   "outputs": [
    {
     "name": "stdout",
     "output_type": "stream",
     "text": [
      "time: 25.6 ms\n"
     ]
    }
   ],
   "source": [
    "BUCKET_NAME = 'lnl-snowplow-washington-city-paper'\n",
    "# BUCKET_NAME = 'lnl-snowplow-alpha-media-holdings-newsday'"
   ]
  },
  {
   "cell_type": "code",
   "execution_count": 4,
   "metadata": {},
   "outputs": [
    {
     "name": "stdout",
     "output_type": "stream",
     "text": [
      "time: 38.5 s\n"
     ]
    }
   ],
   "source": [
    "s3 = boto3.resource('s3')\n",
    "snowplow_activities = []\n",
    "bodies = []\n",
    "for obj in s3.Bucket(BUCKET_NAME).objects.all():\n",
    "    itemname = obj.key\n",
    "    \n",
    "    if '2021-01-25' not in itemname:\n",
    "        continue\n",
    "\n",
    "    obj = s3.Object(BUCKET_NAME, itemname)\n",
    "    body = obj.get()['Body'].read()\n",
    "    bodies.append(body)\n",
    "    contents = body.split(b'\\x0b\\x00d\\x00\\x00\\x00')\n",
    "    if len(contents) == 1:\n",
    "        input(body)\n",
    "    # First entry is always empty\n",
    "    snowplow_activities.extend(contents[1:])"
   ]
  },
  {
   "cell_type": "markdown",
   "metadata": {},
   "source": [
    "* Requisite fields: \"session_date\" (datetime.date), \"client_id\" (str), \"external_id\" (str), \"event_action\" (str), \"event_category\" (str)"
   ]
  },
  {
   "cell_type": "code",
   "execution_count": 19,
   "metadata": {},
   "outputs": [
    {
     "name": "stdout",
     "output_type": "stream",
     "text": [
      "1. Bad payload 2.319030393000048\n",
      "b'\\x0e107.77.203.233\\n\\x00\\xc8\\x00\\x00\\x01w6\\xd9\\xae\\x1e\\x0b\\x00\\xd2\\x00\\x00\\x00\\x05UTF-8\\x0b\\x00\\xdc\\x00\\x00\\x00\\x11ssc-1.0.1-kinesis\\x0b\\x01,\\x00\\x00\\x00\\x89Mozilla/5.0 (iPhone; CPU iPhone OS 14_3 like Mac OS X) AppleWebKit/605.1.15 (KHTML, like Gecko) Version/14.0.2 Mobile/15E148 Safari/604.1\\x0b\\x016\\x00\\x00\\x00 https://washingtoncitypaper.com/\\x0b\\x01@\\x00\\x00\\x00\\x02/i\\x0b\\x01J\\x00\\x00\\x05\\x9dp=web&tv=amp-1.0.1&e=ue&ue_pr=%7B%22schema%22%3A%22iglu%3Acom.snowplowanalytics.snowplow%2Funstruct_event%2Fjsonschema%2F1-0-0%22%2C%22data%22%3A%7B%22schema%22%3A%22iglu%3Adev.amp.snowplow%2Famp_page_ping%2Fjsonschema%2F1-0-0%22%2C%22data%22%3A%7B%22scrollLeft%22%3A0%2C%22scrollWidth%22%3A375%2C%22viewportWidth%22%3A375%2C%22scrollTop%22%3A10327%2C%22scrollHeight%22%3A38369%2C%22viewportHeight%22%3A628%2C%22totalEngagedTime%22%3A280%7D%7D%7D&url=https%3A%2F%2Fwashingtoncitypaper.com%2Farticle%2F288998%2Fhonky-tonk-man%2F&page=Honky%20Tonk%20Man%20-%20Washington%20City%20Paper&res=375x667&dtm=1611532971380&tz=America%2FNew_York&aid=washington-city-paper&cd=32&cs=UTF-8&lang=en-us&refr=https%3A%2F%2Fbing.com%2F&vp=375x628&ua=Mozilla%2F5.0%20(iPhone%3B%20CPU%20iPhone%20OS%2014_3%20like%20Mac%20OS%20X)%20AppleWebKit%2F605.1.15%20(KHTML%2C%20like%20Gecko)%20Version%2F14.0.2%20Mobile%2F15E148%20Safari%2F604.1&ds=375x38369&uid=&co=%7B%22schema%22%3A%22iglu%3Acom.snowplowanalytics.snowplow%2Fcontexts%2Fjsonschema%2F1-0-0%22%2C%22data%22%3A%5B%7B%22schema%22%3A%22iglu%3Adev.amp.snowplow%2Famp_id%2Fjsonschema%2F1-0-0%22%2C%22data%22%3A%7B%22ampClientId%22%3A%22amp-UifGzbsOaVmgtoDoEH4D6w%22%2C%20%22domainUserid%22%3A%20%22%22%2C%20%22userId%22%3A%20%22%22%7D%7D%2C%7B%22schema%22%3A%22iglu%3Adev.amp.snowplow%2Famp_web_page%2Fjsonschema%2F1-0-0%22%2C%22data%22%3A%7B%22ampPageViewId%22%3A%22cE4mJilw9yv1SShLOquOBA%22%7D%7D%5D%7D\\x0f\\x01^\\x0b\\x00\\x00\\x00\\x0b\\x00\\x00\\x00\\x1bTimeout-Access: <function1>\\x00\\x00\\x00\\x1fX-Forwarded-For: 107.77.203.233\\x00\\x00\\x00\\x18X-Forwarded-Proto: https\\x00\\x00\\x00\\x15X-Forwarded-Port: 443\\x00\\x00\\x00>Host: washington-city-paper-snowplow-collector.localnewslab.io\\x00\\x00\\x009X-Amzn-Trace-Id: Root=1-600e0aab-09297ed10216fbe206c6664d\\x00\\x00\\x00UAccept: image/webp, image/png, image/svg+xml, image/*;q=0.8, video/*;q=0.8, */*;q=0.5\\x00\\x00\\x00\"Accept-Encoding: gzip, deflate, br\\x00\\x00\\x00\\x95User-Agent: Mozilla/5.0 (iPhone; CPU iPhone OS 14_3 like Mac OS X) AppleWebKit/605.1.15 (KHTML, like Gecko) Version/14.0.2 Mobile/15E148 Safari/604.1\\x00\\x00\\x00\\x16Accept-Language: en-us\\x00\\x00\\x00)Referer: https://washingtoncitypaper.com/\\x0b\\x01\\x90\\x00\\x00\\x008washington-city-paper-snowplow-collector.localnewslab.io\\x0b\\x01\\x9a\\x00\\x00\\x00$485e9394-e722-414c-b4a1-ba5f1dd4c9cd\\x0bzi\\x00\\x00\\x00Aiglu:com.snowplowanalytics.snowplow/CollectorPayload/thrift/1-0-0\\x00'\n",
      "\n",
      "1. Bad payload 5.7827930989997185\n",
      "b'\\r173.79.51.172\\n\\x00\\xc8\\x00\\x00\\x01w6\\xd9\\xae\\xdd\\x0b\\x00\\xd2\\x00\\x00\\x00\\x05UTF-8\\x0b\\x00\\xdc\\x00\\x00\\x00\\x11ssc-1.0.1-kinesis\\x0b\\x01,\\x00\\x00\\x00wMozilla/5.0 (Macintosh; Intel Mac OS X 10_15_6) AppleWebKit/605.1.15 (KHTML, like Gecko) Version/14.0.2 Safari/605.1.15\\x0b\\x016\\x00\\x00\\x00?https://washingtoncitypaper.com/article/285632/crude-awakening/\\x0b\\x01@\\x00\\x00\\x00\\x02/i\\x0b\\x01J\\x00\\x00\\x05\\x89p=web&tv=amp-1.0.1&e=ue&ue_pr=%7B%22schema%22%3A%22iglu%3Acom.snowplowanalytics.snowplow%2Funstruct_event%2Fjsonschema%2F1-0-0%22%2C%22data%22%3A%7B%22schema%22%3A%22iglu%3Adev.amp.snowplow%2Famp_page_ping%2Fjsonschema%2F1-0-0%22%2C%22data%22%3A%7B%22scrollLeft%22%3A0%2C%22scrollWidth%22%3A1024%2C%22viewportWidth%22%3A1024%2C%22scrollTop%22%3A8525%2C%22scrollHeight%22%3A24506%2C%22viewportHeight%22%3A729%2C%22totalEngagedTime%22%3A241%7D%7D%7D&url=https%3A%2F%2Fwashingtoncitypaper.com%2Farticle%2F285632%2Fcrude-awakening%2F&page=Crude%20Awakening%20-%20Washington%20City%20Paper&res=768x1024&dtm=1611532971710&tz=America%2FNew_York&aid=washington-city-paper&cd=32&cs=UTF-8&lang=en-us&refr=https%3A%2F%2Fwww.bing.com%2F&vp=1024x729&ua=Mozilla%2F5.0%20(Macintosh%3B%20Intel%20Mac%20OS%20X%2010_15_6)%20AppleWebKit%2F605.1.15%20(KHTML%2C%20like%20Gecko)%20Version%2F14.0.2%20Safari%2F605.1.15&ds=1024x24506&uid=&co=%7B%22schema%22%3A%22iglu%3Acom.snowplowanalytics.snowplow%2Fcontexts%2Fjsonschema%2F1-0-0%22%2C%22data%22%3A%5B%7B%22schema%22%3A%22iglu%3Adev.amp.snowplow%2Famp_id%2Fjsonschema%2F1-0-0%22%2C%22data%22%3A%7B%22ampClientId%22%3A%22amp-RWC5wvKFGw7sSvIipiYZ9A%22%2C%20%22domainUserid%22%3A%20%22%22%2C%20%22userId%22%3A%20%22%22%7D%7D%2C%7B%22schema%22%3A%22iglu%3Adev.amp.snowplow%2Famp_web_page%2Fjsonschema%2F1-0-0%22%2C%22data%22%3A%7B%22ampPageViewId%22%3A%22cb0feZ278jzz8TM8gUKBDQ%22%7D%7D%5D%7D\\x0f\\x01^\\x0b\\x00\\x00\\x00\\x0c\\x00\\x00\\x00\\x1bTimeout-Access: <function1>\\x00\\x00\\x00\\x1eX-Forwarded-For: 173.79.51.172\\x00\\x00\\x00\\x18X-Forwarded-Proto: https\\x00\\x00\\x00\\x15X-Forwarded-Port: 443\\x00\\x00\\x00>Host: washington-city-paper-snowplow-collector.localnewslab.io\\x00\\x00\\x009X-Amzn-Trace-Id: Root=1-600e0aab-2e6b0164349831fd5ebea81b\\x00\\x00\\x00UAccept: image/webp, image/png, image/svg+xml, image/*;q=0.8, video/*;q=0.8, */*;q=0.5\\x00\\x00\\x00\"Accept-Encoding: gzip, deflate, br\\x00\\x00\\x00\\x83User-Agent: Mozilla/5.0 (Macintosh; Intel Mac OS X 10_15_6) AppleWebKit/605.1.15 (KHTML, like Gecko) Version/14.0.2 Safari/605.1.15\\x00\\x00\\x00\\x16Accept-Language: en-us\\x00\\x00\\x00HReferer: https://washingtoncitypaper.com/article/285632/crude-awakening/\\x00\\x00\\x00/Cookie: sp=2f4398cb-c9ec-47b5-a7ea-18b9959a32db\\x0b\\x01\\x90\\x00\\x00\\x008washington-city-paper-snowplow-collector.localnewslab.io\\x0b\\x01\\x9a\\x00\\x00\\x00$2f4398cb-c9ec-47b5-a7ea-18b9959a32db\\x0bzi\\x00\\x00\\x00Aiglu:com.snowplowanalytics.snowplow/CollectorPayload/thrift/1-0-0\\x00'\n",
      "\n",
      "1. Good payload 1.321399986409233e-05\n",
      "b'\\x0c73.114.196.4\\n\\x00\\xc8\\x00\\x00\\x01w6\\xd9\\xafA\\x0b\\x00\\xd2\\x00\\x00\\x00\\x05UTF-8\\x0b\\x00\\xdc\\x00\\x00\\x00\\x11ssc-1.0.1-kinesis\\x0b\\x01,\\x00\\x00\\x00sMozilla/5.0 (Windows NT 10.0; Win64; x64) AppleWebKit/537.36 (KHTML, like Gecko) Chrome/87.0.4280.141 Safari/537.36\\x0b\\x016\\x00\\x00\\x00 https://washingtoncitypaper.com/\\x0b\\x01@\\x00\\x00\\x00\\x02/i\\x0b\\x01J\\x00\\x00\\x06\\x13p=web&tv=amp-1.0.1&e=ue&ue_pr=%7B%22schema%22%3A%22iglu%3Acom.snowplowanalytics.snowplow%2Funstruct_event%2Fjsonschema%2F1-0-0%22%2C%22data%22%3A%7B%22schema%22%3A%22iglu%3Adev.amp.snowplow%2Famp_page_ping%2Fjsonschema%2F1-0-0%22%2C%22data%22%3A%7B%22scrollLeft%22%3A0%2C%22scrollWidth%22%3A1903%2C%22viewportWidth%22%3A1920%2C%22scrollTop%22%3A1700%2C%22scrollHeight%22%3A6387%2C%22viewportHeight%22%3A1000%2C%22totalEngagedTime%22%3A24%7D%7D%7D&url=https%3A%2F%2Fwashingtoncitypaper.com%2Farticle%2F221599%2Fwas-the-tennis-battle-of-the-sexes-between-billie-jean%2F&page=Was%20the%20Tennis%20%22Battle%20of%20the%20Sexes%22%20Between%20Billie%20Jean%20King%20and%20Bobby%20Riggs%20Fixed%3F%20-%20Washington%20City%20Paper&res=1920x1200&dtm=1611532971797&tz=America%2FNew_York&aid=washington-city-paper&cd=24&cs=UTF-8&lang=en-us&refr=https%3A%2F%2Fwww.google.com%2F&vp=1920x1000&ua=Mozilla%2F5.0%20(Windows%20NT%2010.0%3B%20Win64%3B%20x64)%20AppleWebKit%2F537.36%20(KHTML%2C%20like%20Gecko)%20Chrome%2F87.0.4280.141%20Safari%2F537.36&ds=1903x6387&uid=&co=%7B%22schema%22%3A%22iglu%3Acom.snowplowanalytics.snowplow%2Fcontexts%2Fjsonschema%2F1-0-0%22%2C%22data%22%3A%5B%7B%22schema%22%3A%22iglu%3Adev.amp.snowplow%2Famp_id%2Fjsonschema%2F1-0-0%22%2C%22data%22%3A%7B%22ampClientId%22%3A%22amp-fw7_U2-LHB_CJY5KrxTEQg%22%2C%20%22domainUserid%22%3A%20%22%22%2C%20%22userId%22%3A%20%22%22%7D%7D%2C%7B%22schema%22%3A%22iglu%3Adev.amp.snowplow%2Famp_web_page%2Fjsonschema%2F1-0-0%22%2C%22data%22%3A%7B%22ampPageViewId%22%3A%22_gSfFv1P2cOyJnOOQnk2iw%22%7D%7D%5D%7D\\x0f\\x01^\\x0b\\x00\\x00\\x00\\x10\\x00\\x00\\x00\\x1bTimeout-Access: <function1>\\x00\\x00\\x00\\x1dX-Forwarded-For: 73.114.196.4\\x00\\x00\\x00\\x18X-Forwarded-Proto: https\\x00\\x00\\x00\\x15X-Forwarded-Port: 443\\x00\\x00\\x00>Host: washington-city-paper-snowplow-collector.localnewslab.io\\x00\\x00\\x009X-Amzn-Trace-Id: Root=1-600e0aab-7eeec9fe3007a8be4eebbd7c\\x00\\x00\\x00Ksec-ch-ua: \"Google Chrome\";v=\"87\", \" Not;A Brand\";v=\"99\", \"Chromium\";v=\"87\"\\x00\\x00\\x00\\x14sec-ch-ua-mobile: ?0\\x00\\x00\\x00\\x7fUser-Agent: Mozilla/5.0 (Windows NT 10.0; Win64; x64) AppleWebKit/537.36 (KHTML, like Gecko) Chrome/87.0.4280.141 Safari/537.36\\x00\\x00\\x00>Accept: image/avif, image/webp, image/apng, image/*, */*;q=0.8\\x00\\x00\\x00\\x1asec-fetch-site: cross-site\\x00\\x00\\x00\\x17sec-fetch-mode: no-cors\\x00\\x00\\x00\\x15sec-fetch-dest: image\\x00\\x00\\x00)Referer: https://washingtoncitypaper.com/\\x00\\x00\\x00\"Accept-Encoding: gzip, deflate, br\\x00\\x00\\x00 Accept-Language: en-US, en;q=0.9\\x0b\\x01\\x90\\x00\\x00\\x008washington-city-paper-snowplow-collector.localnewslab.io\\x0b\\x01\\x9a\\x00\\x00\\x00$d85b5891-0e7a-419d-b1e3-337e175f5b20\\x0bzi\\x00\\x00\\x00Aiglu:com.snowplowanalytics.snowplow/CollectorPayload/thrift/1-0-0\\x00'\n",
      "\n",
      "1. Good payload 6.657999620074406e-06\n",
      "b'\\x0c76.21.151.29\\n\\x00\\xc8\\x00\\x00\\x01w6\\xd9\\xb0D\\x0b\\x00\\xd2\\x00\\x00\\x00\\x05UTF-8\\x0b\\x00\\xdc\\x00\\x00\\x00\\x11ssc-1.0.1-kinesis\\x0b\\x01,\\x00\\x00\\x00\\x89Mozilla/5.0 (iPhone; CPU iPhone OS 14_3 like Mac OS X) AppleWebKit/605.1.15 (KHTML, like Gecko) Version/14.0.2 Mobile/15E148 Safari/604.1\\x0b\\x016\\x00\\x00\\x00 https://washingtoncitypaper.com/\\x0b\\x01@\\x00\\x00\\x00\\x02/i\\x0b\\x01J\\x00\\x00\\x05\\xedp=web&tv=amp-1.0.1&e=ue&ue_pr=%7B%22schema%22%3A%22iglu%3Acom.snowplowanalytics.snowplow%2Funstruct_event%2Fjsonschema%2F1-0-0%22%2C%22data%22%3A%7B%22schema%22%3A%22iglu%3Adev.amp.snowplow%2Famp_page_ping%2Fjsonschema%2F1-0-0%22%2C%22data%22%3A%7B%22scrollLeft%22%3A0%2C%22scrollWidth%22%3A375%2C%22viewportWidth%22%3A375%2C%22scrollTop%22%3A1452%2C%22scrollHeight%22%3A10228%2C%22viewportHeight%22%3A628%2C%22totalEngagedTime%22%3A107%7D%7D%7D&url=https%3A%2F%2Fwashingtoncitypaper.com%2Farticle%2F506361%2Ffat-choi-from-chef-will-fung-sets-you-up-for-hot-pot-success-at-home%2F&page=Fat%20Choi%2C%20From%20Chef%20Will%20Fung%2C%20Sets%20You%20Up%20for%20Hot%20Pot%20Success%20at%20Home&res=375x667&dtm=1611532972035&tz=America%2FNew_York&aid=washington-city-paper&cd=32&cs=UTF-8&lang=en-us&refr=&vp=375x628&ua=Mozilla%2F5.0%20(iPhone%3B%20CPU%20iPhone%20OS%2014_3%20like%20Mac%20OS%20X)%20AppleWebKit%2F605.1.15%20(KHTML%2C%20like%20Gecko)%20Version%2F14.0.2%20Mobile%2F15E148%20Safari%2F604.1&ds=375x10228&uid=&co=%7B%22schema%22%3A%22iglu%3Acom.snowplowanalytics.snowplow%2Fcontexts%2Fjsonschema%2F1-0-0%22%2C%22data%22%3A%5B%7B%22schema%22%3A%22iglu%3Adev.amp.snowplow%2Famp_id%2Fjsonschema%2F1-0-0%22%2C%22data%22%3A%7B%22ampClientId%22%3A%22amp-FvgsHW23ghyAFGgR_cuOXA%22%2C%20%22domainUserid%22%3A%20%22%22%2C%20%22userId%22%3A%20%22%22%7D%7D%2C%7B%22schema%22%3A%22iglu%3Adev.amp.snowplow%2Famp_web_page%2Fjsonschema%2F1-0-0%22%2C%22data%22%3A%7B%22ampPageViewId%22%3A%221fcrKtmjvjI9me7MI8EYPg%22%7D%7D%5D%7D\\x0f\\x01^\\x0b\\x00\\x00\\x00\\x0b\\x00\\x00\\x00\\x1bTimeout-Access: <function1>\\x00\\x00\\x00\\x1dX-Forwarded-For: 76.21.151.29\\x00\\x00\\x00\\x18X-Forwarded-Proto: https\\x00\\x00\\x00\\x15X-Forwarded-Port: 443\\x00\\x00\\x00>Host: washington-city-paper-snowplow-collector.localnewslab.io\\x00\\x00\\x009X-Amzn-Trace-Id: Root=1-600e0aac-29fb557c177a6d1f2cff0f8b\\x00\\x00\\x00UAccept: image/webp, image/png, image/svg+xml, image/*;q=0.8, video/*;q=0.8, */*;q=0.5\\x00\\x00\\x00\"Accept-Encoding: gzip, deflate, br\\x00\\x00\\x00\\x95User-Agent: Mozilla/5.0 (iPhone; CPU iPhone OS 14_3 like Mac OS X) AppleWebKit/605.1.15 (KHTML, like Gecko) Version/14.0.2 Mobile/15E148 Safari/604.1\\x00\\x00\\x00\\x16Accept-Language: en-us\\x00\\x00\\x00)Referer: https://washingtoncitypaper.com/\\x0b\\x01\\x90\\x00\\x00\\x008washington-city-paper-snowplow-collector.localnewslab.io\\x0b\\x01\\x9a\\x00\\x00\\x00$89d2cd36-a31d-46d7-b9d3-ddb2d1c03dd1\\x0bzi\\x00\\x00\\x00Aiglu:com.snowplowanalytics.snowplow/CollectorPayload/thrift/1-0-0\\x00'\n",
      "\n"
     ]
    },
    {
     "name": "stdout",
     "output_type": "stream",
     "text": [
      "1. Bad payload 4.87992334899991\n",
      "b'\\r173.175.33.31\\n\\x00\\xc8\\x00\\x00\\x01w6\\xd9\\xb1w\\x0b\\x00\\xd2\\x00\\x00\\x00\\x05UTF-8\\x0b\\x00\\xdc\\x00\\x00\\x00\\x11ssc-1.0.1-kinesis\\x0b\\x01,\\x00\\x00\\x00\\x8dMozilla/5.0 (iPhone; CPU iPhone OS 14_3 like Mac OS X) AppleWebKit/605.1.15 (KHTML, like Gecko) GSA/137.2.345735309 Mobile/18C66 Safari/604.1\\x0b\\x016\\x00\\x00\\x003https://washingtoncitypaper-com.cdn.ampproject.org/\\x0b\\x01@\\x00\\x00\\x00\\x02/i\\x0b\\x01J\\x00\\x00\\x06}p=web&tv=amp-1.0.1&e=ue&ue_pr=%7B%22schema%22%3A%22iglu%3Acom.snowplowanalytics.snowplow%2Funstruct_event%2Fjsonschema%2F1-0-0%22%2C%22data%22%3A%7B%22schema%22%3A%22iglu%3Adev.amp.snowplow%2Famp_page_ping%2Fjsonschema%2F1-0-0%22%2C%22data%22%3A%7B%22scrollLeft%22%3A0%2C%22scrollWidth%22%3A375%2C%22viewportWidth%22%3A375%2C%22scrollTop%22%3A3096%2C%22scrollHeight%22%3A10065%2C%22viewportHeight%22%3A737%2C%22totalEngagedTime%22%3A54%7D%7D%7D&url=https%3A%2F%2Fwashingtoncitypaper-com.cdn.ampproject.org%2Fc%2Fs%2Fwashingtoncitypaper.com%2Farticle%2F198589%2Fif-juglone-can-induce-cell-death-in-humans-how-are%2F&page=If%20Juglone%20Can%20Induce%20Cell%20Death%20in%20Humans%2C%20How%20Are%20Walnuts%20Good%20for%20Us%3F%EF%BB%BF%20-%20Washington%20City%20Paper&res=375x812&dtm=1611532972315&tz=America%2FChicago&aid=washington-city-paper&cd=32&cs=UTF-8&lang=en-us&refr=https%3A%2F%2Fwww.google.com&vp=375x737&ua=Mozilla%2F5.0%20(iPhone%3B%20CPU%20iPhone%20OS%2014_3%20like%20Mac%20OS%20X)%20AppleWebKit%2F605.1.15%20(KHTML%2C%20like%20Gecko)%20GSA%2F137.2.345735309%20Mobile%2F18C66%20Safari%2F604.1&ds=375x10065&uid=&co=%7B%22schema%22%3A%22iglu%3Acom.snowplowanalytics.snowplow%2Fcontexts%2Fjsonschema%2F1-0-0%22%2C%22data%22%3A%5B%7B%22schema%22%3A%22iglu%3Adev.amp.snowplow%2Famp_id%2Fjsonschema%2F1-0-0%22%2C%22data%22%3A%7B%22ampClientId%22%3A%22kGL72-SAeCal_T74-DUkLjZzyq2UTDS0uUvm6mMNHu6XhiezjzXgExPez07VU-w1%22%2C%20%22domainUserid%22%3A%20%22%22%2C%20%22userId%22%3A%20%22%22%7D%7D%2C%7B%22schema%22%3A%22iglu%3Adev.amp.snowplow%2Famp_web_page%2Fjsonschema%2F1-0-0%22%2C%22data%22%3A%7B%22ampPageViewId%22%3A%22HEL-h889xi9V3wIThhKCaQ%22%7D%7D%5D%7D\\x0f\\x01^\\x0b\\x00\\x00\\x00\\x0b\\x00\\x00\\x00\\x1bTimeout-Access: <function1>\\x00\\x00\\x00\\x1eX-Forwarded-For: 173.175.33.31\\x00\\x00\\x00\\x18X-Forwarded-Proto: https\\x00\\x00\\x00\\x15X-Forwarded-Port: 443\\x00\\x00\\x00>Host: washington-city-paper-snowplow-collector.localnewslab.io\\x00\\x00\\x009X-Amzn-Trace-Id: Root=1-600e0aac-244b604a1f4cccdf6f92ad67\\x00\\x00\\x00UAccept: image/webp, image/png, image/svg+xml, image/*;q=0.8, video/*;q=0.8, */*;q=0.5\\x00\\x00\\x00\"Accept-Encoding: gzip, deflate, br\\x00\\x00\\x00\\x99User-Agent: Mozilla/5.0 (iPhone; CPU iPhone OS 14_3 like Mac OS X) AppleWebKit/605.1.15 (KHTML, like Gecko) GSA/137.2.345735309 Mobile/18C66 Safari/604.1\\x00\\x00\\x00\\x16Accept-Language: en-us\\x00\\x00\\x00<Referer: https://washingtoncitypaper-com.cdn.ampproject.org/\\x0b\\x01\\x90\\x00\\x00\\x008washington-city-paper-snowplow-collector.localnewslab.io\\x0b\\x01\\x9a\\x00\\x00\\x00$06518f06-e1fe-4202-ba73-7d4a2b6f0b55\\x0bzi\\x00\\x00\\x00Aiglu:com.snowplowanalytics.snowplow/CollectorPayload/thrift/1-0-0\\x00'\n",
      "\n",
      "1. Good payload 1.2646999948628945e-05\n",
      "b'\\x0c73.134.91.14\\n\\x00\\xc8\\x00\\x00\\x01w6\\xd9\\xb1\\x8d\\x0b\\x00\\xd2\\x00\\x00\\x00\\x05UTF-8\\x0b\\x00\\xdc\\x00\\x00\\x00\\x11ssc-1.0.1-kinesis\\x0b\\x01,\\x00\\x00\\x00sMozilla/5.0 (Windows NT 10.0; Win64; x64) AppleWebKit/537.36 (KHTML, like Gecko) Chrome/87.0.4280.141 Safari/537.36\\x0b\\x016\\x00\\x00\\x00 https://washingtoncitypaper.com/\\x0b\\x01@\\x00\\x00\\x00\\x02/i\\x0b\\x01J\\x00\\x00\\x06\\x0cp=web&tv=amp-1.0.1&e=ue&ue_pr=%7B%22schema%22%3A%22iglu%3Acom.snowplowanalytics.snowplow%2Funstruct_event%2Fjsonschema%2F1-0-0%22%2C%22data%22%3A%7B%22schema%22%3A%22iglu%3Adev.amp.snowplow%2Famp_page_ping%2Fjsonschema%2F1-0-0%22%2C%22data%22%3A%7B%22scrollLeft%22%3A0%2C%22scrollWidth%22%3A1349%2C%22viewportWidth%22%3A1366%2C%22scrollTop%22%3A7881%2C%22scrollHeight%22%3A11329%2C%22viewportHeight%22%3A625%2C%22totalEngagedTime%22%3A101%7D%7D%7D&url=https%3A%2F%2Fwashingtoncitypaper.com%2Farticle%2F505926%2Fan-act-of-nature-brought-down-lou-stovall-backyard-studio-now-what%2F&page=An%20Act%20of%20Nature%20Brought%20Down%20Lou%20Stovall%E2%80%99s%20Backyard%20Studio.%20Now%20What%3F&res=1366x768&dtm=1611532970963&tz=America%2FNew_York&aid=washington-city-paper&cd=24&cs=UTF-8&lang=en-us&refr=https%3A%2F%2Fwashingtoncitypaper.com%2Fmuseums-galleries%2F&vp=1366x625&ua=Mozilla%2F5.0%20(Windows%20NT%2010.0%3B%20Win64%3B%20x64)%20AppleWebKit%2F537.36%20(KHTML%2C%20like%20Gecko)%20Chrome%2F87.0.4280.141%20Safari%2F537.36&ds=1349x11329&uid=&co=%7B%22schema%22%3A%22iglu%3Acom.snowplowanalytics.snowplow%2Fcontexts%2Fjsonschema%2F1-0-0%22%2C%22data%22%3A%5B%7B%22schema%22%3A%22iglu%3Adev.amp.snowplow%2Famp_id%2Fjsonschema%2F1-0-0%22%2C%22data%22%3A%7B%22ampClientId%22%3A%22amp-HRB-SBRHUjh_wWUfz5vxlw%22%2C%20%22domainUserid%22%3A%20%22%22%2C%20%22userId%22%3A%20%22%22%7D%7D%2C%7B%22schema%22%3A%22iglu%3Adev.amp.snowplow%2Famp_web_page%2Fjsonschema%2F1-0-0%22%2C%22data%22%3A%7B%22ampPageViewId%22%3A%22Cq8LURDns1vul5crvSWPng%22%7D%7D%5D%7D\\x0f\\x01^\\x0b\\x00\\x00\\x00\\x0e\\x00\\x00\\x00\\x1bTimeout-Access: <function1>\\x00\\x00\\x00\\x1dX-Forwarded-For: 73.134.91.14\\x00\\x00\\x00\\x18X-Forwarded-Proto: https\\x00\\x00\\x00\\x15X-Forwarded-Port: 443\\x00\\x00\\x00>Host: washington-city-paper-snowplow-collector.localnewslab.io\\x00\\x00\\x009X-Amzn-Trace-Id: Root=1-600e0aac-1f9a11025c9b1c564e6c4598\\x00\\x00\\x00\\x7fUser-Agent: Mozilla/5.0 (Windows NT 10.0; Win64; x64) AppleWebKit/537.36 (KHTML, like Gecko) Chrome/87.0.4280.141 Safari/537.36\\x00\\x00\\x00>Accept: image/avif, image/webp, image/apng, image/*, */*;q=0.8\\x00\\x00\\x00\\x1asec-fetch-site: cross-site\\x00\\x00\\x00\\x17sec-fetch-mode: no-cors\\x00\\x00\\x00\\x15sec-fetch-dest: image\\x00\\x00\\x00)Referer: https://washingtoncitypaper.com/\\x00\\x00\\x00\"Accept-Encoding: gzip, deflate, br\\x00\\x00\\x00 Accept-Language: en-US, en;q=0.9\\x0b\\x01\\x90\\x00\\x00\\x008washington-city-paper-snowplow-collector.localnewslab.io\\x0b\\x01\\x9a\\x00\\x00\\x00$0f218097-2e12-4e05-a854-a66d4d5d23ac\\x0bzi\\x00\\x00\\x00Aiglu:com.snowplowanalytics.snowplow/CollectorPayload/thrift/1-0-0\\x00'\n",
      "\n",
      "1. Good payload 7.295999694179045e-06\n",
      "b'\\x0c96.31.119.69\\n\\x00\\xc8\\x00\\x00\\x01w6\\xd9\\xbf\\x15\\x0b\\x00\\xd2\\x00\\x00\\x00\\x05UTF-8\\x0b\\x00\\xdc\\x00\\x00\\x00\\x11ssc-1.0.1-kinesis\\x0b\\x01,\\x00\\x00\\x00zMozilla/5.0 (Linux; Android 10; SM-G973U) AppleWebKit/537.36 (KHTML, like Gecko) Chrome/87.0.4280.141 Mobile Safari/537.36\\x0b\\x016\\x00\\x00\\x00 https://washingtoncitypaper.com/\\x0b\\x01@\\x00\\x00\\x00\\x02/i\\x0b\\x01J\\x00\\x00\\x04&p=web&tv=amp-1.0.1&e=pv&url=https%3A%2F%2Fwashingtoncitypaper.com%2Farticle%2F327515%2Falt-right-conspiracy-theorists-obsess-over-comet-ping-pong%2F&page=Alt%20Right%20Conspiracy%20Theorists%20Obsess%20Over%20Comet%20Ping%20Pong%20-%20Washington%20City%20Paper&res=412x869&dtm=1611532975849&tz=America%2FDenver&aid=washington-city-paper&cd=24&cs=UTF-8&lang=en-us&refr=&vp=412x722&ua=Mozilla%2F5.0%20(Linux%3B%20Android%2010%3B%20SM-G973U)%20AppleWebKit%2F537.36%20(KHTML%2C%20like%20Gecko)%20Chrome%2F87.0.4280.141%20Mobile%20Safari%2F537.36&ds=412x15960&uid=&co=%7B%22schema%22%3A%22iglu%3Acom.snowplowanalytics.snowplow%2Fcontexts%2Fjsonschema%2F1-0-0%22%2C%22data%22%3A%5B%7B%22schema%22%3A%22iglu%3Adev.amp.snowplow%2Famp_id%2Fjsonschema%2F1-0-0%22%2C%22data%22%3A%7B%22ampClientId%22%3A%22amp-kLqJt-s5qNmjhc_Uo1IAXA%22%2C%20%22domainUserid%22%3A%20%22%22%2C%20%22userId%22%3A%20%22%22%7D%7D%2C%7B%22schema%22%3A%22iglu%3Adev.amp.snowplow%2Famp_web_page%2Fjsonschema%2F1-0-0%22%2C%22data%22%3A%7B%22ampPageViewId%22%3A%22UMO2HVrcSy9rWNjWVdM26A%22%7D%7D%5D%7D\\x0f\\x01^\\x0b\\x00\\x00\\x00\\x0f\\x00\\x00\\x00\\x1bTimeout-Access: <function1>\\x00\\x00\\x00\\x1dX-Forwarded-For: 96.31.119.69\\x00\\x00\\x00\\x18X-Forwarded-Proto: https\\x00\\x00\\x00\\x15X-Forwarded-Port: 443\\x00\\x00\\x00>Host: washington-city-paper-snowplow-collector.localnewslab.io\\x00\\x00\\x009X-Amzn-Trace-Id: Root=1-600e0aaf-60b75b5c6f9df4735093329a\\x00\\x00\\x00\\x86User-Agent: Mozilla/5.0 (Linux; Android 10; SM-G973U) AppleWebKit/537.36 (KHTML, like Gecko) Chrome/87.0.4280.141 Mobile Safari/537.36\\x00\\x00\\x00\\x06dnt: 1\\x00\\x00\\x002Accept: image/webp, image/apng, image/*, */*;q=0.8\\x00\\x00\\x00\\x1asec-fetch-site: cross-site\\x00\\x00\\x00\\x17sec-fetch-mode: no-cors\\x00\\x00\\x00\\x15sec-fetch-dest: image\\x00\\x00\\x00)Referer: https://washingtoncitypaper.com/\\x00\\x00\\x00\"Accept-Encoding: gzip, deflate, br\\x00\\x00\\x00 Accept-Language: en-US, en;q=0.9\\x0b\\x01\\x90\\x00\\x00\\x008washington-city-paper-snowplow-collector.localnewslab.io\\x0b\\x01\\x9a\\x00\\x00\\x00$678fb06c-a4a1-49b5-921d-e23c7f5fcb32\\x0bzi\\x00\\x00\\x00Aiglu:com.snowplowanalytics.snowplow/CollectorPayload/thrift/1-0-0\\x00'\n",
      "\n",
      "1. Good payload 0.7464774180002678\n",
      "b'\\x0b86.147.97.1\\n\\x00\\xc8\\x00\\x00\\x01w6\\xd9\\xc0?\\x0b\\x00\\xd2\\x00\\x00\\x00\\x05UTF-8\\x0b\\x00\\xdc\\x00\\x00\\x00\\x11ssc-1.0.1-kinesis\\x0b\\x01,\\x00\\x00\\x00\\x96Mozilla/5.0 (Linux; Android 11; SAMSUNG SM-G781B) AppleWebKit/537.36 (KHTML, like Gecko) SamsungBrowser/13.2 Chrome/83.0.4103.106 Mobile Safari/537.36\\x0b\\x016\\x00\\x00\\x00Hhttps://washingtoncitypaper.com/article/203346/can-dolphins-rape-humans/\\x0b\\x01@\\x00\\x00\\x00\\x02/i\\x0b\\x01J\\x00\\x00\\x05\\xa0p=web&tv=amp-1.0.1&e=ue&ue_pr=%7B%22schema%22%3A%22iglu%3Acom.snowplowanalytics.snowplow%2Funstruct_event%2Fjsonschema%2F1-0-0%22%2C%22data%22%3A%7B%22schema%22%3A%22iglu%3Adev.amp.snowplow%2Famp_page_ping%2Fjsonschema%2F1-0-0%22%2C%22data%22%3A%7B%22scrollLeft%22%3A0%2C%22scrollWidth%22%3A360%2C%22viewportWidth%22%3A360%2C%22scrollTop%22%3A726%2C%22scrollHeight%22%3A10696%2C%22viewportHeight%22%3A723%2C%22totalEngagedTime%22%3A10%7D%7D%7D&url=https%3A%2F%2Fwashingtoncitypaper.com%2Farticle%2F203346%2Fcan-dolphins-rape-humans%2F&page=Can%20Dolphins%20Rape%20Humans%3F%20-%20Washington%20City%20Paper&res=360x800&dtm=1611532975741&tz=Europe%2FLondon&aid=washington-city-paper&cd=24&cs=UTF-8&lang=en-gb&refr=&vp=360x723&ua=Mozilla%2F5.0%20(Linux%3B%20Android%2011%3B%20SAMSUNG%20SM-G781B)%20AppleWebKit%2F537.36%20(KHTML%2C%20like%20Gecko)%20SamsungBrowser%2F13.2%20Chrome%2F83.0.4103.106%20Mobile%20Safari%2F537.36&ds=360x10696&uid=&co=%7B%22schema%22%3A%22iglu%3Acom.snowplowanalytics.snowplow%2Fcontexts%2Fjsonschema%2F1-0-0%22%2C%22data%22%3A%5B%7B%22schema%22%3A%22iglu%3Adev.amp.snowplow%2Famp_id%2Fjsonschema%2F1-0-0%22%2C%22data%22%3A%7B%22ampClientId%22%3A%22amp-8U0wu2odzLuZa3kbtfo3Gw%22%2C%20%22domainUserid%22%3A%20%22%22%2C%20%22userId%22%3A%20%22%22%7D%7D%2C%7B%22schema%22%3A%22iglu%3Adev.amp.snowplow%2Famp_web_page%2Fjsonschema%2F1-0-0%22%2C%22data%22%3A%7B%22ampPageViewId%22%3A%22l7JHzQFz2CB3GV2lrQ8wZw%22%7D%7D%5D%7D\\x0f\\x01^\\x0b\\x00\\x00\\x00\\x0f\\x00\\x00\\x00\\x1bTimeout-Access: <function1>\\x00\\x00\\x00\\x1cX-Forwarded-For: 86.147.97.1\\x00\\x00\\x00\\x18X-Forwarded-Proto: https\\x00\\x00\\x00\\x15X-Forwarded-Port: 443\\x00\\x00\\x00>Host: washington-city-paper-snowplow-collector.localnewslab.io\\x00\\x00\\x009X-Amzn-Trace-Id: Root=1-600e0ab0-261f362161855d2f0f4d1941\\x00\\x00\\x00\\xa2User-Agent: Mozilla/5.0 (Linux; Android 11; SAMSUNG SM-G781B) AppleWebKit/537.36 (KHTML, like Gecko) SamsungBrowser/13.2 Chrome/83.0.4103.106 Mobile Safari/537.36\\x00\\x00\\x002Accept: image/webp, image/apng, image/*, */*;q=0.8\\x00\\x00\\x00\\x1asec-fetch-site: cross-site\\x00\\x00\\x00\\x17sec-fetch-mode: no-cors\\x00\\x00\\x00\\x15sec-fetch-dest: image\\x00\\x00\\x00QReferer: https://washingtoncitypaper.com/article/203346/can-dolphins-rape-humans/\\x00\\x00\\x00\"Accept-Encoding: gzip, deflate, br\\x00\\x00\\x00-Accept-Language: en-GB, en-US;q=0.9, en;q=0.8\\x00\\x00\\x00/Cookie: sp=e5aaa60e-27d0-4b96-adb2-0fc46590f4af\\x0b\\x01\\x90\\x00\\x00\\x008washington-city-paper-snowplow-collector.localnewslab.io\\x0b\\x01\\x9a\\x00\\x00\\x00$e5aaa60e-27d0-4b96-adb2-0fc46590f4af\\x0bzi\\x00\\x00\\x00Aiglu:com.snowplowanalytics.snowplow/CollectorPayload/thrift/1-0-0\\x00'\n",
      "\n"
     ]
    },
    {
     "ename": "NameError",
     "evalue": "name 'e' is not defined",
     "output_type": "error",
     "traceback": [
      "\u001b[0;31m---------------------------------------------------------------------------\u001b[0m",
      "\u001b[0;31mKeyboardInterrupt\u001b[0m                         Traceback (most recent call last)",
      "\u001b[0;32m<ipython-input-19-799ff96b871c>\u001b[0m in \u001b[0;36m<module>\u001b[0;34m\u001b[0m\n\u001b[1;32m     15\u001b[0m     \u001b[0;32mtry\u001b[0m\u001b[0;34m:\u001b[0m\u001b[0;34m\u001b[0m\u001b[0;34m\u001b[0m\u001b[0m\n\u001b[0;32m---> 16\u001b[0;31m         \u001b[0mraw_payload\u001b[0m \u001b[0;34m=\u001b[0m \u001b[0mdeserialize\u001b[0m\u001b[0;34m(\u001b[0m\u001b[0mcollector_payload\u001b[0m\u001b[0;34m,\u001b[0m \u001b[0mpayload\u001b[0m\u001b[0;34m,\u001b[0m \u001b[0mprotocol\u001b[0m\u001b[0;34m)\u001b[0m\u001b[0;34m\u001b[0m\u001b[0;34m\u001b[0m\u001b[0m\n\u001b[0m\u001b[1;32m     17\u001b[0m     \u001b[0;32mexcept\u001b[0m \u001b[0me\u001b[0m\u001b[0;34m:\u001b[0m\u001b[0;34m\u001b[0m\u001b[0;34m\u001b[0m\u001b[0m\n",
      "\u001b[0;32m~/Code/article-rec-training-job/env/lib/python3.9/site-packages/thriftpy2/utils.py\u001b[0m in \u001b[0;36mdeserialize\u001b[0;34m(thrift_object, buf, proto_factory)\u001b[0m\n\u001b[1;32m     21\u001b[0m     \u001b[0mprotocol\u001b[0m \u001b[0;34m=\u001b[0m \u001b[0mproto_factory\u001b[0m\u001b[0;34m.\u001b[0m\u001b[0mget_protocol\u001b[0m\u001b[0;34m(\u001b[0m\u001b[0mtransport\u001b[0m\u001b[0;34m)\u001b[0m\u001b[0;34m\u001b[0m\u001b[0;34m\u001b[0m\u001b[0m\n\u001b[0;32m---> 22\u001b[0;31m     \u001b[0mthrift_object\u001b[0m\u001b[0;34m.\u001b[0m\u001b[0mread\u001b[0m\u001b[0;34m(\u001b[0m\u001b[0mprotocol\u001b[0m\u001b[0;34m)\u001b[0m\u001b[0;34m\u001b[0m\u001b[0;34m\u001b[0m\u001b[0m\n\u001b[0m\u001b[1;32m     23\u001b[0m     \u001b[0;32mreturn\u001b[0m \u001b[0mthrift_object\u001b[0m\u001b[0;34m\u001b[0m\u001b[0;34m\u001b[0m\u001b[0m\n",
      "\u001b[0;32m~/Code/article-rec-training-job/env/lib/python3.9/site-packages/thriftpy2/thrift.py\u001b[0m in \u001b[0;36mread\u001b[0;34m(self, iprot)\u001b[0m\n\u001b[1;32m    159\u001b[0m     \u001b[0;32mdef\u001b[0m \u001b[0mread\u001b[0m\u001b[0;34m(\u001b[0m\u001b[0mself\u001b[0m\u001b[0;34m,\u001b[0m \u001b[0miprot\u001b[0m\u001b[0;34m)\u001b[0m\u001b[0;34m:\u001b[0m\u001b[0;34m\u001b[0m\u001b[0;34m\u001b[0m\u001b[0m\n\u001b[0;32m--> 160\u001b[0;31m         \u001b[0miprot\u001b[0m\u001b[0;34m.\u001b[0m\u001b[0mread_struct\u001b[0m\u001b[0;34m(\u001b[0m\u001b[0mself\u001b[0m\u001b[0;34m)\u001b[0m\u001b[0;34m\u001b[0m\u001b[0;34m\u001b[0m\u001b[0m\n\u001b[0m\u001b[1;32m    161\u001b[0m \u001b[0;34m\u001b[0m\u001b[0m\n",
      "\u001b[0;31mKeyboardInterrupt\u001b[0m: ",
      "\nDuring handling of the above exception, another exception occurred:\n",
      "\u001b[0;31mNameError\u001b[0m                                 Traceback (most recent call last)",
      "\u001b[0;32m<ipython-input-19-799ff96b871c>\u001b[0m in \u001b[0;36m<module>\u001b[0;34m\u001b[0m\n\u001b[1;32m     15\u001b[0m     \u001b[0;32mtry\u001b[0m\u001b[0;34m:\u001b[0m\u001b[0;34m\u001b[0m\u001b[0;34m\u001b[0m\u001b[0m\n\u001b[1;32m     16\u001b[0m         \u001b[0mraw_payload\u001b[0m \u001b[0;34m=\u001b[0m \u001b[0mdeserialize\u001b[0m\u001b[0;34m(\u001b[0m\u001b[0mcollector_payload\u001b[0m\u001b[0;34m,\u001b[0m \u001b[0mpayload\u001b[0m\u001b[0;34m,\u001b[0m \u001b[0mprotocol\u001b[0m\u001b[0;34m)\u001b[0m\u001b[0;34m\u001b[0m\u001b[0;34m\u001b[0m\u001b[0m\n\u001b[0;32m---> 17\u001b[0;31m     \u001b[0;32mexcept\u001b[0m \u001b[0me\u001b[0m\u001b[0;34m:\u001b[0m\u001b[0;34m\u001b[0m\u001b[0;34m\u001b[0m\u001b[0m\n\u001b[0m\u001b[1;32m     18\u001b[0m         \u001b[0mprint\u001b[0m\u001b[0;34m(\u001b[0m\u001b[0me\u001b[0m\u001b[0;34m)\u001b[0m\u001b[0;34m\u001b[0m\u001b[0;34m\u001b[0m\u001b[0m\n\u001b[1;32m     19\u001b[0m         \u001b[0minput\u001b[0m\u001b[0;34m(\u001b[0m\u001b[0mpayload\u001b[0m\u001b[0;34m)\u001b[0m\u001b[0;34m\u001b[0m\u001b[0;34m\u001b[0m\u001b[0m\n",
      "\u001b[0;31mNameError\u001b[0m: name 'e' is not defined"
     ]
    },
    {
     "name": "stdout",
     "output_type": "stream",
     "text": [
      "time: 16 s\n"
     ]
    }
   ],
   "source": [
    "import time\n",
    "from progressbar import ProgressBar\n",
    "from traceback import print_exc\n",
    "\n",
    "snowplow_data = []\n",
    "\n",
    "bar = ProgressBar(max_value = len(snowplow_activities))\n",
    "collector = thriftpy.load(\"collector-payload.thrift\")\n",
    "collector_payload = collector.CollectorPayload()\n",
    "protocol = TCyBinaryProtocolFactory()\n",
    "for i, payload in enumerate(snowplow_activities):\n",
    "\n",
    "    t0 = time.perf_counter()\n",
    "#     bar.update(i)\n",
    "    try:\n",
    "        raw_payload = deserialize(collector_payload, payload, protocol)\n",
    "    except e:\n",
    "        print(e)\n",
    "        input(payload)\n",
    "    t1 = time.perf_counter()\n",
    "    if t1 - t0 > 2:\n",
    "        print('1. Bad payload', t1 - t0)\n",
    "        print(payload)\n",
    "        print()\n",
    "    else:\n",
    "        print('1. Good payload', t1 - t0)\n",
    "        print(payload)\n",
    "        print()\n",
    "              \n",
    "    t0 = t1\n",
    "    \n",
    "    querystring = raw_payload.querystring\n",
    "    network_userid = raw_payload.networkUserId\n",
    "    params = parse.parse_qs(querystring)\n",
    "    t1 = time.perf_counter()\n",
    "    if t1 - t0 > 2:\n",
    "        print('2', t1 - t0)\n",
    "    t0 = t1\n",
    "    try:\n",
    "        if params:\n",
    "            activity_time = datetime.fromtimestamp(int(params['dtm'][0][:-3]))\n",
    "            snowplow_data.append({\n",
    "                \"session_date\": activity_time.date(),\n",
    "                \"client_id\": json.loads(params['co'][0])[\"data\"][0][\"data\"][\"ampClientId\"],\n",
    "                \"external_id\": params['page'][0],\n",
    "                \"activity_time\": activity_time,\n",
    "                \"event_category\": None,\n",
    "                \"event_action\": None\n",
    "            })\n",
    "    except:\n",
    "        pp(params)\n",
    "        raise\n",
    "    t1 = time.perf_counter()\n",
    "    if t1 - t0 > 2:\n",
    "        print(t1 - t0, len(payload))\n",
    "    \n",
    "    \n",
    "snowplow_df = pd.DataFrame(snowplow_data)"
   ]
  },
  {
   "cell_type": "code",
   "execution_count": null,
   "metadata": {},
   "outputs": [],
   "source": [
    "snowplow_df"
   ]
  },
  {
   "cell_type": "markdown",
   "metadata": {},
   "source": [
    "# Train on Snowplow data"
   ]
  },
  {
   "cell_type": "code",
   "execution_count": 8,
   "metadata": {},
   "outputs": [
    {
     "ename": "NameError",
     "evalue": "name 'snowplow_df' is not defined",
     "output_type": "error",
     "traceback": [
      "\u001b[0;31m---------------------------------------------------------------------------\u001b[0m",
      "\u001b[0;31mNameError\u001b[0m                                 Traceback (most recent call last)",
      "\u001b[0;32m<ipython-input-8-a90b36e56ff3>\u001b[0m in \u001b[0;36m<module>\u001b[0;34m\u001b[0m\n\u001b[0;32m----> 1\u001b[0;31m \u001b[0mformatted_df\u001b[0m \u001b[0;34m=\u001b[0m \u001b[0mformat_ga\u001b[0m\u001b[0;34m(\u001b[0m\u001b[0msnowplow_df\u001b[0m\u001b[0;34m)\u001b[0m\u001b[0;34m\u001b[0m\u001b[0;34m\u001b[0m\u001b[0m\n\u001b[0m\u001b[1;32m      2\u001b[0m \u001b[0mmodel\u001b[0m \u001b[0;34m=\u001b[0m \u001b[0mtrain_model\u001b[0m\u001b[0;34m(\u001b[0m\u001b[0mX\u001b[0m\u001b[0;34m=\u001b[0m\u001b[0mformatted_df\u001b[0m\u001b[0;34m,\u001b[0m \u001b[0mreg\u001b[0m\u001b[0;34m=\u001b[0m\u001b[0;36m2.319952\u001b[0m\u001b[0;34m,\u001b[0m \u001b[0mn_components\u001b[0m\u001b[0;34m=\u001b[0m\u001b[0;36m130\u001b[0m\u001b[0;34m,\u001b[0m \u001b[0mepochs\u001b[0m\u001b[0;34m=\u001b[0m\u001b[0;36m2\u001b[0m\u001b[0;34m)\u001b[0m\u001b[0;34m\u001b[0m\u001b[0;34m\u001b[0m\u001b[0m\n\u001b[1;32m      3\u001b[0m \u001b[0marticle_names\u001b[0m \u001b[0;34m=\u001b[0m \u001b[0mformatted_df\u001b[0m\u001b[0;34m.\u001b[0m\u001b[0mcolumns\u001b[0m\u001b[0;34m\u001b[0m\u001b[0;34m\u001b[0m\u001b[0m\n\u001b[1;32m      4\u001b[0m \u001b[0muser_names\u001b[0m \u001b[0;34m=\u001b[0m \u001b[0mformatted_df\u001b[0m\u001b[0;34m.\u001b[0m\u001b[0mindex\u001b[0m\u001b[0;34m\u001b[0m\u001b[0;34m\u001b[0m\u001b[0m\n\u001b[1;32m      5\u001b[0m \u001b[0;34m\u001b[0m\u001b[0m\n",
      "\u001b[0;31mNameError\u001b[0m: name 'snowplow_df' is not defined"
     ]
    },
    {
     "name": "stdout",
     "output_type": "stream",
     "text": [
      "time: 57.7 ms\n"
     ]
    }
   ],
   "source": [
    "formatted_df = format_ga(snowplow_df)\n",
    "model = train_model(X=formatted_df, reg=2.319952, n_components=130, epochs=2)\n",
    "article_names = formatted_df.columns\n",
    "user_names = formatted_df.index\n",
    "\n",
    "vector_distance = distance.cdist(model.item_vectors, model.item_vectors, metric=\"cosine\")\n",
    "vector_order = vector_distance.argsort()\n",
    "for i, order in enumerate(vector_order):\n",
    "    source_article = article_names[i]\n",
    "    # First entry is the article itself, so skip it\n",
    "    print(source_article)\n",
    "    print('---')\n",
    "    for j in order[1:5]:\n",
    "        recommended_article = article_names[j]\n",
    "        print(recommended_article)\n",
    "    print()\n"
   ]
  },
  {
   "cell_type": "markdown",
   "metadata": {},
   "source": [
    "Compare the network user ID to the amp client ID\n",
    "dtm is the datetime"
   ]
  },
  {
   "cell_type": "markdown",
   "metadata": {},
   "source": [
    "# Check enriched data"
   ]
  },
  {
   "cell_type": "code",
   "execution_count": 4,
   "metadata": {},
   "outputs": [
    {
     "name": "stdout",
     "output_type": "stream",
     "text": [
      "time: 25.6 ms\n"
     ]
    }
   ],
   "source": [
    "BUCKET_NAME = 'lnl-snowplow-washington-city-paper'\n",
    "# BUCKET_NAME = 'lnl-snowplow-alpha-media-holdings-newsday'"
   ]
  },
  {
   "cell_type": "code",
   "execution_count": null,
   "metadata": {
    "scrolled": true
   },
   "outputs": [
    {
     "name": "stdout",
     "output_type": "stream",
     "text": [
      "enriched/good/2021/01/29/18/ProdWashingtonCityPaperSnowplow-StreamEnrichStreams-fUjakewLdXJ2-1-2021-01-29-18-38-18-9ba9d07a-bb8d-478b-a084-3ceb38aa9793.gz\n"
     ]
    }
   ],
   "source": [
    "import time\n",
    "from progressbar import ProgressBar\n",
    "from traceback import print_exc\n",
    "snowplow_data = []\n",
    "bar = ProgressBar(max_value = len(snowplow_activities))\n",
    "collector = thriftpy.load(\"collector-payload.thrift\")\n",
    "collector_payload = collector.CollectorPayload()\n",
    "protocol = TCyBinaryProtocolFactory()\n",
    "for i, payload in enumerate(snowplow_activities):\n",
    "    t0 = time.perf_counter()\n",
    "#     bar.update(i)\n",
    "    try:\n",
    "        raw_payload = deserialize(collector_payload, payload, protocol)\n",
    "    except e:\n",
    "        print(e)\n",
    "        input(payload)\n",
    "    t1 = time.perf_counter()\n",
    "    if t1 - t0 > 2:\n",
    "        print('1. Bad payload', t1 - t0)\n",
    "        print(payload)\n",
    "        print()\n",
    "    else:\n",
    "        print('1. Good payload', t1 - t0)\n",
    "        print(payload)\n",
    "        print()\n",
    "    t0 = t1\n",
    "    querystring = raw_payload.querystring\n",
    "    network_userid = raw_payload.networkUserId\n",
    "    params = parse.parse_qs(querystring)\n",
    "    t1 = time.perf_counter()\n",
    "    if t1 - t0 > 2:\n",
    "        print('2', t1 - t0)\n",
    "    t0 = t1\n",
    "    try:\n",
    "        if params:\n",
    "            activity_time = datetime.fromtimestamp(int(params['dtm'][0][:-3]))\n",
    "            snowplow_data.append({\n",
    "                \"session_date\": activity_time.date(),\n",
    "                \"client_id\": json.loads(params['co'][0])[\"data\"][0][\"data\"][\"ampClientId\"],\n",
    "                \"external_id\": params['page'][0],\n",
    "                \"activity_time\": activity_time,\n",
    "                \"event_category\": None,\n",
    "                \"event_action\": None\n",
    "            })\n",
    "    except:\n",
    "        pp(params)\n",
    "        raise\n",
    "    t1 = time.perf_counter()\n",
    "    if t1 - t0 > 2:\n",
    "        print(t1 - t0, len(payload))\n",
    "snowplow_df = pd.DataFrame(snowplow_data)"
   ]
  },
  {
   "cell_type": "code",
   "execution_count": null,
   "metadata": {},
   "outputs": [],
   "source": [
    "s3 = boto3.resource('s3')\n",
    "snowplow_activities = []\n",
    "bodies = []\n",
    "for obj in s3.Bucket(BUCKET_NAME).objects.all():\n",
    "    itemname = obj.key\n",
    "    if '2021-01-25' not in itemname:\n",
    "        continue\n",
    "    obj = s3.Object(BUCKET_NAME, itemname)\n",
    "    body = obj.get()['Body'].read()\n",
    "    bodies.append(body)\n",
    "    contents = body.split(b'\\x0b\\x00d\\x00\\x00\\x00')\n",
    "    if len(contents) == 1:\n",
    "        input(body)\n",
    "    # First entry is always empty\n",
    "    snowplow_activities.extend(contents[1:])"
   ]
  },
  {
   "cell_type": "markdown",
   "metadata": {},
   "source": [
    "# Compare to GA data"
   ]
  },
  {
   "cell_type": "code",
   "execution_count": 1,
   "metadata": {},
   "outputs": [
    {
     "name": "stdout",
     "output_type": "stream",
     "text": [
      "time: 289 ms\n"
     ]
    }
   ],
   "source": [
    "ga_df = pd.read_csv('../tmp/wcp_sessions_20210125-20210125_20210125-20210125.csv')"
   ]
  },
  {
   "cell_type": "code",
   "execution_count": 3,
   "metadata": {},
   "outputs": [
    {
     "data": {
      "text/plain": [
       "25%                              8763\n",
       "Load                             7437\n",
       "50%                              5478\n",
       "Seen                             5390\n",
       "newsletter modal impression 1     702\n",
       "newsletter modal impression 3     586\n",
       "100%                              453\n",
       "Dismissal                         319\n",
       "Permanent Dismissal                41\n",
       "social share                       15\n",
       "Link Click                          7\n",
       "newsletter signup                   1\n",
       "Form Submission                     1\n",
       "Name: event_action, dtype: int64"
      ]
     },
     "execution_count": 3,
     "metadata": {},
     "output_type": "execute_result"
    },
    {
     "name": "stdout",
     "output_type": "stream",
     "text": [
      "time: 22.3 ms\n"
     ]
    }
   ],
   "source": [
    "ga_df.event_action.value_counts()"
   ]
  },
  {
   "cell_type": "code",
   "execution_count": null,
   "metadata": {},
   "outputs": [],
   "source": [
    "ga_client_ids = ga_df.client_id.unique()\n",
    "snowplow_client_ids = snowplow_df.client_id.unique()"
   ]
  },
  {
   "cell_type": "code",
   "execution_count": null,
   "metadata": {},
   "outputs": [],
   "source": []
  }
 ],
 "metadata": {
  "kernelspec": {
   "display_name": "Python 3",
   "language": "python",
   "name": "python3"
  },
  "language_info": {
   "codemirror_mode": {
    "name": "ipython",
    "version": 3
   },
   "file_extension": ".py",
   "mimetype": "text/x-python",
   "name": "python",
   "nbconvert_exporter": "python",
   "pygments_lexer": "ipython3",
   "version": "3.9.0"
  }
 },
 "nbformat": 4,
 "nbformat_minor": 4
}

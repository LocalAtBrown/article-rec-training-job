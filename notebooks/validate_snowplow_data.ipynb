{
 "cells": [
  {
   "cell_type": "code",
   "execution_count": null,
   "metadata": {},
   "outputs": [],
   "source": [
    "import boto3\n",
    "s3 = boto3.resource('\n",
    "\n",
    "import base64\n",
    "import boto3\n",
    "import sys\n",
    "import thriftpy2 as thriftpy\n",
    "\n",
    "from pprint import pprint as pp\n",
    "from thriftpy2.protocol import TCyBinaryProtocolFactory\n",
    "from thriftpy2.utils import deserialize, serialize\n",
    "from urllib import parse"
   ]
  },
  {
   "cell_type": "code",
   "execution_count": null,
   "metadata": {},
   "outputs": [],
   "source": [
    "BUCKET_NAME = 'lnl-snowplow-winnipeg-free-press'\n",
    "# BUCKET_NAME = 'lnl-snowplow-alpha-media-holdings-newsday'\n",
    "\n",
    "itemname = \"collected/good/2020/12/15/19/ProdWinnipegFreePressSnowplow-ProdWinnipegFreePress-2q0DsTL7AN3A-1-2020-12-15-19-05-10-0fa285f9-afb9-4e07-8460-2550d7026c43\"\n",
    "# itemname = \"collected/good/2020/12/15/20/ProdAMHNewsdaySnowplow-ProdAMHNewsdaySnowplowCollec-F74outadhaK8-1-2020-12-15-20-14-31-f48e5106-9ed6-4025-acde-e5ef2d8bc720\""
   ]
  },
  {
   "cell_type": "code",
   "execution_count": null,
   "metadata": {},
   "outputs": [],
   "source": [
    "s3 = boto3.resource('s3')\n",
    "obj = s3.Object(BUCKET_NAME, itemname)\n",
    "body = obj.get()['Body'].read().split(b'\\x0b\\x00d\\x00\\x00\\x00\\r')"
   ]
  },
  {
   "cell_type": "code",
   "execution_count": null,
   "metadata": {},
   "outputs": [],
   "source": [
    "# sample_payload = sys.stdin.readline()\n",
    "# sample_payload = b\"\\n\".join([body[0]] + body[3:5])\n",
    "ip_payload = body[0]\n",
    "for payload in body[1:]:\n",
    "#     sample_payload = ip_payload + b\"\\n\" + payload\n",
    "    sample_payload = payload\n",
    "\n",
    "    # decoded_payload = base64.b64decode(sample_payload)\n",
    "    decoded_payload = sample_payload\n",
    "\n",
    "    collector = thriftpy.load(\"collector-payload.thrift\")\n",
    "    collector_payload = collector.CollectorPayload()\n",
    "    raw_payload = deserialize(collector_payload, decoded_payload, TCyBinaryProtocolFactory())\n",
    "    \n",
    "    querystring = raw_payload.body\n",
    "    network_userid = raw_payload.networkUserId\n",
    "#     if network_userid is not None:\n",
    "#         continue\n",
    "        \n",
    "    print(payload)\n",
    "    \n",
    "    print('-------------------')\n",
    "\n",
    "    print(raw_payload)\n",
    "\n",
    "    print('-------------------')\n",
    "\n",
    "    print(network_userid)\n",
    "\n",
    "    print('-------------------')\n",
    "\n",
    "    params = parse.parse_qs(querystring)\n",
    "    pp(params)"
   ]
  }
 ],
 "metadata": {
  "kernelspec": {
   "display_name": "Python 3",
   "language": "python",
   "name": "python3"
  },
  "language_info": {
   "codemirror_mode": {
    "name": "ipython",
    "version": 3
   },
   "file_extension": ".py",
   "mimetype": "text/x-python",
   "name": "python",
   "nbconvert_exporter": "python",
   "pygments_lexer": "ipython3",
   "version": "3.9.0"
  }
 },
 "nbformat": 4,
 "nbformat_minor": 4
}

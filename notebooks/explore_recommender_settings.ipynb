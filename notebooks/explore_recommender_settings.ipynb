{
 "cells": [
  {
   "cell_type": "code",
   "execution_count": 239,
   "metadata": {},
   "outputs": [
    {
     "name": "stdout",
     "output_type": "stream",
     "text": [
      "time: 56.4 ms\n"
     ]
    }
   ],
   "source": [
    "import os\n",
    "os.environ['STAGE'] = 'default'\n",
    "import sys\n",
    "sys.path.append('..')"
   ]
  },
  {
   "cell_type": "code",
   "execution_count": 240,
   "metadata": {},
   "outputs": [
    {
     "name": "stdout",
     "output_type": "stream",
     "text": [
      "time: 33.3 ms\n"
     ]
    }
   ],
   "source": [
    "import json\n",
    "import matplotlib.pyplot as plt\n",
    "import numpy as np\n",
    "import pandas as pd\n",
    "import traceback\n",
    "\n",
    "from itertools import product\n",
    "from matplotlib.ticker import ScalarFormatter\n",
    "from scipy.sparse import csr_matrix\n",
    "from scipy.spatial import distance\n",
    "from scipy.stats import kendalltau\n",
    "from sklearn.cluster import KMeans\n",
    "from sklearn.preprocessing import MinMaxScaler\n",
    "from sklearn.metrics import classification_report\n",
    "from sklearn.neighbors import NearestNeighbors\n",
    "\n",
    "from job.helpers import *\n",
    "from job.preprocessors import *\n",
    "from job.models import *"
   ]
  },
  {
   "cell_type": "code",
   "execution_count": 241,
   "metadata": {},
   "outputs": [
    {
     "name": "stdout",
     "output_type": "stream",
     "text": [
      "time: 35.9 ms\n"
     ]
    }
   ],
   "source": [
    "import matplotlib as mpl\n",
    "font = {\n",
    "    'family' : 'Tahoma',\n",
    "    'weight' : 'bold',\n",
    "    'size'   : 22\n",
    "}\n",
    "\n",
    "mpl.rc('font', **font)"
   ]
  },
  {
   "cell_type": "code",
   "execution_count": 248,
   "metadata": {},
   "outputs": [
    {
     "name": "stdout",
     "output_type": "stream",
     "text": [
      "time: 1.13 s\n"
     ]
    }
   ],
   "source": [
    "EXPERIMENT_DATE = pd.to_datetime(datetime.date.today())\n",
    "activity_df = pd.read_pickle('data/wcp_activities_20201202-20201206_20200907-20201206.pkl')\n",
    "metadata_df = pd.read_pickle('data/wcp_metadata_20201202-20201206_20200907-20201206.pkl')"
   ]
  },
  {
   "cell_type": "code",
   "execution_count": 243,
   "metadata": {},
   "outputs": [
    {
     "name": "stdout",
     "output_type": "stream",
     "text": [
      "time: 675 ms\n"
     ]
    }
   ],
   "source": [
    "member_client_ids = (\n",
    "    activity_df\n",
    "    .client_id\n",
    "    [(activity_df.event_action == 'newsletter signup')]\n",
    "    .unique()\n",
    ")\n",
    "nonmember_client_ids = (\n",
    "    activity_df\n",
    "    .client_id\n",
    "    [~activity_df.client_id.isin(member_client_ids)]\n",
    "    .unique()\n",
    ")\n",
    "client_id_sample = set(member_client_ids[:3]) | set(nonmember_client_ids[:3])\n",
    "\n",
    "sample_df = activity_df[activity_df.client_id.isin(client_id_sample)]\n",
    "sample_df.to_csv('../tests/data/activities.csv', index=False)"
   ]
  },
  {
   "cell_type": "code",
   "execution_count": 244,
   "metadata": {},
   "outputs": [
    {
     "name": "stderr",
     "output_type": "stream",
     "text": [
      " 98% (73975 of 74923) |################# | Elapsed Time: 0:00:05 ETA:   0:00:00"
     ]
    },
    {
     "name": "stdout",
     "output_type": "stream",
     "text": [
      "time: 33.9 s\n"
     ]
    }
   ],
   "source": [
    "# Hyperparameters derived using optimize_ga_pipeline.ipynb notebook in google-analytics-exploration\n",
    "formatted_df = format_ga(\n",
    "    activity_df, \n",
    "    date_list=[EXPERIMENT_DATE], \n",
    "    external_id_col='external_id',\n",
    "    half_life=59.631698\n",
    ")"
   ]
  },
  {
   "cell_type": "code",
   "execution_count": 245,
   "metadata": {},
   "outputs": [
    {
     "name": "stdout",
     "output_type": "stream",
     "text": [
      "time: 1.81 s\n"
     ]
    }
   ],
   "source": [
    "snapshot_df = formatted_df.reset_index()\n",
    "snapshot_df = snapshot_df[snapshot_df.session_date == EXPERIMENT_DATE]\n",
    "snapshot_df = snapshot_df.set_index(['client_id', 'session_date'])"
   ]
  },
  {
   "cell_type": "code",
   "execution_count": 246,
   "metadata": {},
   "outputs": [
    {
     "name": "stderr",
     "output_type": "stream",
     "text": [
      " 99% (2960 of 2961) |################### | Elapsed Time: 0:02:16 ETA:   0:00:00"
     ]
    },
    {
     "name": "stdout",
     "output_type": "stream",
     "text": [
      "time: 10min 49s\n"
     ]
    }
   ],
   "source": [
    "model = train_model(\n",
    "    X=np.array(snapshot_df),\n",
    "    reg=2.319952,\n",
    "    n_components=130,\n",
    "    epochs=2\n",
    ")"
   ]
  },
  {
   "cell_type": "code",
   "execution_count": 247,
   "metadata": {},
   "outputs": [
    {
     "name": "stdout",
     "output_type": "stream",
     "text": [
      "time: 35.9 ms\n"
     ]
    }
   ],
   "source": [
    "article_names = snapshot_df.columns\n",
    "user_names = snapshot_df.index\n",
    "article_vectors = model.item_vectors\n",
    "user_vectors = model.user_vectors"
   ]
  },
  {
   "cell_type": "code",
   "execution_count": 258,
   "metadata": {},
   "outputs": [
    {
     "name": "stdout",
     "output_type": "stream",
     "text": [
      "time: 31.6 ms\n"
     ]
    }
   ],
   "source": [
    "metadata_df = metadata_df.reset_index().set_index('article_id')"
   ]
  },
  {
   "cell_type": "code",
   "execution_count": 278,
   "metadata": {},
   "outputs": [
    {
     "data": {
      "text/plain": [
       "pandas.core.series.Series"
      ]
     },
     "execution_count": 278,
     "metadata": {},
     "output_type": "execute_result"
    },
    {
     "name": "stdout",
     "output_type": "stream",
     "text": [
      "time: 30.2 ms\n"
     ]
    }
   ],
   "source": []
  },
  {
   "cell_type": "code",
   "execution_count": 309,
   "metadata": {},
   "outputs": [
    {
     "data": {
      "text/plain": [
       "external_id\n",
       "502684    2822\n",
       "502704    2930\n",
       "502739    2179\n",
       "502767    1243\n",
       "502776    2926\n",
       "          ... \n",
       "503406    2948\n",
       "503456    2952\n",
       "503473    2956\n",
       "503480    2943\n",
       "503493    1698\n",
       "Length: 50, dtype: int64"
      ]
     },
     "execution_count": 309,
     "metadata": {},
     "output_type": "execute_result"
    },
    {
     "name": "stdout",
     "output_type": "stream",
     "text": [
      "time: 1.38 s\n"
     ]
    }
   ],
   "source": [
    "snapshot_df.sum().argsort()[-50:]"
   ]
  },
  {
   "cell_type": "code",
   "execution_count": 321,
   "metadata": {},
   "outputs": [
    {
     "data": {
      "text/plain": [
       "(array([2953]),)"
      ]
     },
     "execution_count": 321,
     "metadata": {},
     "output_type": "execute_result"
    },
    {
     "name": "stdout",
     "output_type": "stream",
     "text": [
      "time: 31.6 ms\n"
     ]
    }
   ],
   "source": [
    "np.where(snapshot_df.columns == '503353')"
   ]
  },
  {
   "cell_type": "markdown",
   "metadata": {},
   "source": [
    "# Something weird happened here...\n",
    "https://washingtoncitypaper.com/article/241370/\n",
    "\n",
    "https://washingtoncitypaper.com/article/275796/overkill/"
   ]
  },
  {
   "cell_type": "code",
   "execution_count": 294,
   "metadata": {},
   "outputs": [
    {
     "data": {
      "text/html": [
       "<div>\n",
       "<style scoped>\n",
       "    .dataframe tbody tr th:only-of-type {\n",
       "        vertical-align: middle;\n",
       "    }\n",
       "\n",
       "    .dataframe tbody tr th {\n",
       "        vertical-align: top;\n",
       "    }\n",
       "\n",
       "    .dataframe thead th {\n",
       "        text-align: right;\n",
       "    }\n",
       "</style>\n",
       "<table border=\"1\" class=\"dataframe\">\n",
       "  <thead>\n",
       "    <tr style=\"text-align: right;\">\n",
       "      <th></th>\n",
       "      <th>landing_page_path</th>\n",
       "      <th>published_at</th>\n",
       "      <th>headline</th>\n",
       "      <th>url</th>\n",
       "      <th>body</th>\n",
       "    </tr>\n",
       "    <tr>\n",
       "      <th>article_id</th>\n",
       "      <th></th>\n",
       "      <th></th>\n",
       "      <th></th>\n",
       "      <th></th>\n",
       "      <th></th>\n",
       "    </tr>\n",
       "  </thead>\n",
       "  <tbody>\n",
       "    <tr>\n",
       "      <th>241370</th>\n",
       "      <td>/article/275796/overkill/</td>\n",
       "      <td>2006-02-17T05:00:00+00:00</td>\n",
       "      <td>NaN</td>\n",
       "      <td>NaN</td>\n",
       "      <td>NaN</td>\n",
       "    </tr>\n",
       "  </tbody>\n",
       "</table>\n",
       "</div>"
      ],
      "text/plain": [
       "                    landing_page_path               published_at headline  \\\n",
       "article_id                                                                  \n",
       "241370      /article/275796/overkill/  2006-02-17T05:00:00+00:00      NaN   \n",
       "\n",
       "            url body  \n",
       "article_id            \n",
       "241370      NaN  NaN  "
      ]
     },
     "execution_count": 294,
     "metadata": {},
     "output_type": "execute_result"
    },
    {
     "name": "stdout",
     "output_type": "stream",
     "text": [
      "time: 36 ms\n"
     ]
    }
   ],
   "source": [
    "metadata_df[metadata_df.landing_page_path == '/article/275796/overkill/']"
   ]
  },
  {
   "cell_type": "code",
   "execution_count": 323,
   "metadata": {},
   "outputs": [
    {
     "data": {
      "text/html": [
       "<div>\n",
       "<style scoped>\n",
       "    .dataframe tbody tr th:only-of-type {\n",
       "        vertical-align: middle;\n",
       "    }\n",
       "\n",
       "    .dataframe tbody tr th {\n",
       "        vertical-align: top;\n",
       "    }\n",
       "\n",
       "    .dataframe thead th {\n",
       "        text-align: right;\n",
       "    }\n",
       "</style>\n",
       "<table border=\"1\" class=\"dataframe\">\n",
       "  <thead>\n",
       "    <tr style=\"text-align: right;\">\n",
       "      <th></th>\n",
       "      <th>503294</th>\n",
       "    </tr>\n",
       "  </thead>\n",
       "  <tbody>\n",
       "    <tr>\n",
       "      <th>landing_page_path</th>\n",
       "      <td>/article/503294/everyone-is-suddenly-a-home-co...</td>\n",
       "    </tr>\n",
       "    <tr>\n",
       "      <th>published_at</th>\n",
       "      <td>2020-12-02T17:07:42+00:00</td>\n",
       "    </tr>\n",
       "    <tr>\n",
       "      <th>headline</th>\n",
       "      <td>Everyone Is Suddenly a Home Cook. Bold Fork Bo...</td>\n",
       "    </tr>\n",
       "    <tr>\n",
       "      <th>url</th>\n",
       "      <td>https://washingtoncitypaper.com/article/503294...</td>\n",
       "    </tr>\n",
       "    <tr>\n",
       "      <th>body</th>\n",
       "      <td>When Clementine Thomas walked into Montreal’s ...</td>\n",
       "    </tr>\n",
       "  </tbody>\n",
       "</table>\n",
       "</div>"
      ],
      "text/plain": [
       "                                                              503294\n",
       "landing_page_path  /article/503294/everyone-is-suddenly-a-home-co...\n",
       "published_at                               2020-12-02T17:07:42+00:00\n",
       "headline           Everyone Is Suddenly a Home Cook. Bold Fork Bo...\n",
       "url                https://washingtoncitypaper.com/article/503294...\n",
       "body               When Clementine Thomas walked into Montreal’s ..."
      ]
     },
     "execution_count": 323,
     "metadata": {},
     "output_type": "execute_result"
    },
    {
     "name": "stdout",
     "output_type": "stream",
     "text": [
      "Bub & Pop’s Lost Bub Today and Will be Closed\n",
      "https://washingtoncitypaper.com/article/192760/bub-pops-lost-bub-today-and-will-be-closed/\n",
      "Health Department Closes Greek Deli on 19th St. NW For Lacking ‘Easily Accessible’ Restroom\n",
      "https://washingtoncitypaper.com/article/180621/health-department-closes-greek-deli-on-19th-st-nw-for-lacking-easily-accessible-restroom/\n",
      "Pesce Too Pops Up Inside Bullfrog Bagels Serving Seafood on Capitol Hill\n",
      "https://washingtoncitypaper.com/article/181209/pesce-too-pops-up-inside-bullfrog-bagels-serving-seafood-on-capitol-hill/\n",
      "Longtime D.C. Government Watchdogs’ Property Auctioned at Tax Sale\n",
      "https://washingtoncitypaper.com/article/179267/longtime-dc-government-watchdogs-property-auctioned-at-tax-sale/\n",
      "Local Artists Respond to D.C.’s Comprehensive Cultural Plan\n",
      "https://washingtoncitypaper.com/article/186244/local-artists-respond-to-dcs-comprehensive-cultural-plan/\n",
      "time: 1.66 s\n"
     ]
    }
   ],
   "source": [
    "vector_distance = distance.cdist(article_vectors, article_vectors, metric='cosine')\n",
    "vector_order = vector_distance.argsort()\n",
    "for i, order in enumerate(vector_order):\n",
    "    if i != 2945:\n",
    "        continue\n",
    "    source = metadata_df.loc[article_names[i]]\n",
    "    if type(source) == pd.DataFrame:\n",
    "        source = source.iloc[0]\n",
    "    pd.DataFrame(source)\n",
    "    for j in order[1:6]:\n",
    "        article = metadata_df.loc[article_names[j]]\n",
    "        if type(article) == pd.DataFrame:\n",
    "            article = article.iloc[0]\n",
    "        try:\n",
    "            print(article.headline.strip())\n",
    "            print(article.url)\n",
    "        except:\n",
    "            print(article.landing_page_path)"
   ]
  },
  {
   "cell_type": "markdown",
   "metadata": {},
   "source": [
    "# Useful visualizations"
   ]
  },
  {
   "cell_type": "code",
   "execution_count": 135,
   "metadata": {},
   "outputs": [
    {
     "name": "stdout",
     "output_type": "stream",
     "text": [
      "time: 45.9 s\n"
     ]
    }
   ],
   "source": [
    "clean_df = fix_dtypes(activity_df)\n",
    "sorted_df = time_activities(clean_df)\n",
    "filtered_df = filter_activities(sorted_df)\n",
    "time_df = aggregate_time(filtered_df, date_list=[EXPERIMENT_DATE])"
   ]
  },
  {
   "cell_type": "code",
   "execution_count": 230,
   "metadata": {},
   "outputs": [
    {
     "data": {
      "image/png": "[encoded data removed]",
      "text/plain": [
       "<Figure size 720x360 with 1 Axes>"
      ]
     },
     "metadata": {
      "needs_background": "light"
     },
     "output_type": "display_data"
    },
    {
     "name": "stdout",
     "output_type": "stream",
     "text": [
      "time: 542 ms\n"
     ]
    }
   ],
   "source": [
    "from matplotlib.ticker import ScalarFormatter\n",
    "\n",
    "THRESHOLD=12\n",
    "\n",
    "t = pd.to_timedelta(sorted_df.time_spent).dt.total_seconds().dropna() / 60\n",
    "matplotlib.rcParams['xtick.major.size'] = 10\n",
    "matplotlib.rcParams['xtick.minor.size'] = 5\n",
    "\n",
    "fig, ax = plt.subplots(figsize=(10,5))\n",
    "plt.rc('xtick', labelsize='small')\n",
    "plt.rc('ytick', labelsize='small')\n",
    "bins = ax.hist(t, bins=np.logspace(np.log(0.001),np.log(100.0), 100), log=True)\n",
    "_ = plt.xscale('log')\n",
    "_ = plt.axvline(x=THRESHOLD, c='red', linewidth=4)\n",
    "_ = plt.xlabel(\"Time Spent (minutes)\")\n",
    "_ = plt.ylabel(\"Number of Events\")\n",
    "_ = plt.title(\"Distribution of Time between Events\")\n",
    "_ = plt.xticks([1, 12, 120, 1200])\n",
    "_ = plt.xlim((x_min, 1200))\n",
    "ax.xaxis.set_major_formatter(ScalarFormatter())\n",
    "plt.show()"
   ]
  },
  {
   "cell_type": "code",
   "execution_count": 231,
   "metadata": {},
   "outputs": [
    {
     "data": {
      "image/png": "[encoded data removed]",
      "text/plain": [
       "<Figure size 720x360 with 1 Axes>"
      ]
     },
     "metadata": {
      "needs_background": "light"
     },
     "output_type": "display_data"
    },
    {
     "name": "stdout",
     "output_type": "stream",
     "text": [
      "time: 630 ms\n"
     ]
    }
   ],
   "source": [
    "t = (\n",
    "    pd.to_timedelta(\n",
    "        filtered_df\n",
    "        .groupby('client_id')['time_spent']\n",
    "        .sum()\n",
    "    )\n",
    "    .dt.total_seconds()\n",
    "    .dropna() / 60\n",
    ")\n",
    "\n",
    "THRESHOLD=1\n",
    "\n",
    "mpl.rcParams['xtick.major.size'] = 10\n",
    "mpl.rcParams['xtick.minor.size'] = 5\n",
    "\n",
    "fig, ax = plt.subplots(figsize=(10,5))\n",
    "plt.rc('xtick', labelsize='small')\n",
    "plt.rc('ytick', labelsize='small')\n",
    "bins = ax.hist(t, bins=np.logspace(np.log(0.001),np.log(50.0), 50), log=True)\n",
    "x_min = np.sort(bins[1][np.where(bins[0] > 0)[0]])[2]\n",
    "x_max = bins[1][np.where(bins[0] > 0)[0]].max()\n",
    "_ = plt.axvline(x=THRESHOLD, c='lightgreen', linewidth=4)\n",
    "_ = plt.xscale('log')\n",
    "_ = plt.xlabel(\"Total Dwell Time (minutes)\")\n",
    "_ = plt.ylabel(\"Number of Readers\")\n",
    "_ = plt.title(\"Distribution of Total Dwell Time across Readers\")\n",
    "_ = plt.xticks([1, 10, 100, 1000])\n",
    "_ = plt.xlim((x_min, x_max))\n",
    "ax.xaxis.set_major_formatter(ScalarFormatter())\n",
    "plt.show()"
   ]
  },
  {
   "cell_type": "code",
   "execution_count": 214,
   "metadata": {},
   "outputs": [
    {
     "name": "stdout",
     "output_type": "stream",
     "text": [
      "time: 11 s\n"
     ]
    }
   ],
   "source": [
    "article_totals = snapshot_df.sum()\n",
    "reader_totals = snapshot_df.sum(axis=1)"
   ]
  },
  {
   "cell_type": "code",
   "execution_count": 217,
   "metadata": {},
   "outputs": [
    {
     "name": "stdout",
     "output_type": "stream",
     "text": [
      "time: 1.71 s\n"
     ]
    }
   ],
   "source": [
    "article_index = np.argsort(article_totals)[-2::-1]\n",
    "reader_index = np.argsort(reader_totals)[-2::-1]\n",
    "article_cutoff = article_totals[article_index[100]]\n",
    "reader_cutoff = reader_totals[reader_index[100]]\n",
    "\n",
    "top_articles = snapshot_df.columns[article_index]\n",
    "top_articles = top_articles[article_totals[article_index] > article_cutoff]\n",
    "top_readers = snapshot_df.iloc[reader_index]\n",
    "top_readers = top_readers[reader_totals[reader_index] > reader_cutoff]"
   ]
  },
  {
   "cell_type": "code",
   "execution_count": 218,
   "metadata": {},
   "outputs": [
    {
     "data": {
      "image/png": "[encoded data removed]",
      "text/plain": [
       "<Figure size 720x1080 with 1 Axes>"
      ]
     },
     "metadata": {
      "needs_background": "light"
     },
     "output_type": "display_data"
    },
    {
     "name": "stdout",
     "output_type": "stream",
     "text": [
      "time: 247 ms\n"
     ]
    }
   ],
   "source": [
    "plot_df = top_readers[top_articles]\n",
    "X = np.array(plot_df)\n",
    "X_scaler = MinMaxScaler()\n",
    "X_scaled = X_scaler.fit_transform(X)\n",
    "\n",
    "fig, ax = plt.subplots(figsize=(10,15))\n",
    "matplotlib.rcParams['xtick.major.size'] = 10\n",
    "matplotlib.rcParams['xtick.minor.size'] = 5\n",
    "plt.rc('xtick', labelsize='small')\n",
    "plt.rc('ytick', labelsize='small')\n",
    "\n",
    "_ = plt.xlabel(\"Articles\")\n",
    "_ = plt.ylabel(\"Readers\")\n",
    "_ = plt.title(\"User-Article Matrix: Time-Decayed Dwell Time\")\n",
    "\n",
    "_ = plt.imshow(X_scaled, cmap=plt.cm.Blues)"
   ]
  },
  {
   "cell_type": "markdown",
   "metadata": {},
   "source": [
    "# Boneyard"
   ]
  },
  {
   "cell_type": "code",
   "execution_count": 210,
   "metadata": {},
   "outputs": [
    {
     "ename": "TypingError",
     "evalue": "Failed in nopython mode pipeline (step: nopython frontend)\nInternal error at <numba.core.typeinfer.CallConstraint object at 0x7fdc8cb83190>.\nFailed in nopython mode pipeline (step: analyzing bytecode)\nUse of unsupported opcode (IS_OP) found\n\nFile \"../env/lib/python3.9/site-packages/umap/nndescent.py\", line 38:\ndef init_rp_tree(data, dist, current_graph, leaf_array, tried=None):\n    if tried is None:\n    ^\n\nDuring: resolving callee type: type(CPUDispatcher(<function init_rp_tree at 0x7fe6faaa3040>))\nDuring: typing of call at /Users/ericbolton/Code/article-rec-training-job/env/lib/python3.9/site-packages/umap/nndescent.py (199)\n\nEnable logging at debug level for details.\n\nFile \"../env/lib/python3.9/site-packages/umap/nndescent.py\", line 199:\ndef nn_descent(\n    <source elided>\n    if rp_tree_init:\n        init_rp_tree(data, dist, current_graph, leaf_array, tried=tried)\n        ^\n",
     "output_type": "error",
     "traceback": [
      "\u001b[0;31m---------------------------------------------------------------------------\u001b[0m",
      "\u001b[0;31mTypingError\u001b[0m                               Traceback (most recent call last)",
      "\u001b[0;32m<ipython-input-210-df22ab4c1c2a>\u001b[0m in \u001b[0;36m<module>\u001b[0;34m\u001b[0m\n\u001b[1;32m     10\u001b[0m \u001b[0;34m\u001b[0m\u001b[0m\n\u001b[1;32m     11\u001b[0m \u001b[0mX_100\u001b[0m \u001b[0;34m=\u001b[0m \u001b[0mpca_model\u001b[0m\u001b[0;34m.\u001b[0m\u001b[0mfit_transform\u001b[0m\u001b[0;34m(\u001b[0m\u001b[0mX\u001b[0m\u001b[0;34m)\u001b[0m\u001b[0;34m\u001b[0m\u001b[0;34m\u001b[0m\u001b[0m\n\u001b[0;32m---> 12\u001b[0;31m \u001b[0mX_1\u001b[0m \u001b[0;34m=\u001b[0m \u001b[0mumap_model\u001b[0m\u001b[0;34m.\u001b[0m\u001b[0mfit_transform\u001b[0m\u001b[0;34m(\u001b[0m\u001b[0mX_100\u001b[0m\u001b[0;34m)\u001b[0m\u001b[0;34m\u001b[0m\u001b[0;34m\u001b[0m\u001b[0m\n\u001b[0m\u001b[1;32m     13\u001b[0m \u001b[0mX_1\u001b[0m\u001b[0;34m.\u001b[0m\u001b[0mshape\u001b[0m\u001b[0;34m\u001b[0m\u001b[0;34m\u001b[0m\u001b[0m\n\u001b[1;32m     14\u001b[0m \u001b[0;34m\u001b[0m\u001b[0m\n",
      "\u001b[0;32m~/Code/article-rec-training-job/env/lib/python3.9/site-packages/umap/umap_.py\u001b[0m in \u001b[0;36mfit_transform\u001b[0;34m(self, X, y)\u001b[0m\n\u001b[1;32m   2012\u001b[0m             \u001b[0mEmbedding\u001b[0m \u001b[0mof\u001b[0m \u001b[0mthe\u001b[0m \u001b[0mtraining\u001b[0m \u001b[0mdata\u001b[0m \u001b[0;32min\u001b[0m \u001b[0mlow\u001b[0m\u001b[0;34m-\u001b[0m\u001b[0mdimensional\u001b[0m \u001b[0mspace\u001b[0m\u001b[0;34m.\u001b[0m\u001b[0;34m\u001b[0m\u001b[0;34m\u001b[0m\u001b[0m\n\u001b[1;32m   2013\u001b[0m         \"\"\"\n\u001b[0;32m-> 2014\u001b[0;31m         \u001b[0mself\u001b[0m\u001b[0;34m.\u001b[0m\u001b[0mfit\u001b[0m\u001b[0;34m(\u001b[0m\u001b[0mX\u001b[0m\u001b[0;34m,\u001b[0m \u001b[0my\u001b[0m\u001b[0;34m)\u001b[0m\u001b[0;34m\u001b[0m\u001b[0;34m\u001b[0m\u001b[0m\n\u001b[0m\u001b[1;32m   2015\u001b[0m         \u001b[0;32mreturn\u001b[0m \u001b[0mself\u001b[0m\u001b[0;34m.\u001b[0m\u001b[0membedding_\u001b[0m\u001b[0;34m\u001b[0m\u001b[0;34m\u001b[0m\u001b[0m\n\u001b[1;32m   2016\u001b[0m \u001b[0;34m\u001b[0m\u001b[0m\n",
      "\u001b[0;32m~/Code/article-rec-training-job/env/lib/python3.9/site-packages/umap/umap_.py\u001b[0m in \u001b[0;36mfit\u001b[0;34m(self, X, y)\u001b[0m\n\u001b[1;32m   1790\u001b[0m             \u001b[0;32melse\u001b[0m\u001b[0;34m:\u001b[0m\u001b[0;34m\u001b[0m\u001b[0;34m\u001b[0m\u001b[0m\n\u001b[1;32m   1791\u001b[0m                 \u001b[0mnn_metric\u001b[0m \u001b[0;34m=\u001b[0m \u001b[0mself\u001b[0m\u001b[0;34m.\u001b[0m\u001b[0m_input_distance_func\u001b[0m\u001b[0;34m\u001b[0m\u001b[0;34m\u001b[0m\u001b[0m\n\u001b[0;32m-> 1792\u001b[0;31m             (self._knn_indices, self._knn_dists, self._rp_forest) = nearest_neighbors(\n\u001b[0m\u001b[1;32m   1793\u001b[0m                 \u001b[0mX\u001b[0m\u001b[0;34m[\u001b[0m\u001b[0mindex\u001b[0m\u001b[0;34m]\u001b[0m\u001b[0;34m,\u001b[0m\u001b[0;34m\u001b[0m\u001b[0;34m\u001b[0m\u001b[0m\n\u001b[1;32m   1794\u001b[0m                 \u001b[0mself\u001b[0m\u001b[0;34m.\u001b[0m\u001b[0m_n_neighbors\u001b[0m\u001b[0;34m,\u001b[0m\u001b[0;34m\u001b[0m\u001b[0;34m\u001b[0m\u001b[0m\n",
      "\u001b[0;32m~/Code/article-rec-training-job/env/lib/python3.9/site-packages/umap/umap_.py\u001b[0m in \u001b[0;36mnearest_neighbors\u001b[0;34m(X, n_neighbors, metric, metric_kwds, angular, random_state, low_memory, use_pynndescent, verbose)\u001b[0m\n\u001b[1;32m    385\u001b[0m                 \u001b[0;32mif\u001b[0m \u001b[0mverbose\u001b[0m\u001b[0;34m:\u001b[0m\u001b[0;34m\u001b[0m\u001b[0;34m\u001b[0m\u001b[0m\n\u001b[1;32m    386\u001b[0m                     \u001b[0mprint\u001b[0m\u001b[0;34m(\u001b[0m\u001b[0mts\u001b[0m\u001b[0;34m(\u001b[0m\u001b[0;34m)\u001b[0m\u001b[0;34m,\u001b[0m \u001b[0;34m\"NN descent for\"\u001b[0m\u001b[0;34m,\u001b[0m \u001b[0mstr\u001b[0m\u001b[0;34m(\u001b[0m\u001b[0mn_iters\u001b[0m\u001b[0;34m)\u001b[0m\u001b[0;34m,\u001b[0m \u001b[0;34m\"iterations\"\u001b[0m\u001b[0;34m)\u001b[0m\u001b[0;34m\u001b[0m\u001b[0;34m\u001b[0m\u001b[0m\n\u001b[0;32m--> 387\u001b[0;31m                 knn_indices, knn_dists = nn_descent(\n\u001b[0m\u001b[1;32m    388\u001b[0m                     \u001b[0mX\u001b[0m\u001b[0;34m,\u001b[0m\u001b[0;34m\u001b[0m\u001b[0;34m\u001b[0m\u001b[0m\n\u001b[1;32m    389\u001b[0m                     \u001b[0mn_neighbors\u001b[0m\u001b[0;34m,\u001b[0m\u001b[0;34m\u001b[0m\u001b[0;34m\u001b[0m\u001b[0m\n",
      "\u001b[0;32m~/Code/article-rec-training-job/env/lib/python3.9/site-packages/numba/core/dispatcher.py\u001b[0m in \u001b[0;36m_compile_for_args\u001b[0;34m(self, *args, **kws)\u001b[0m\n\u001b[1;32m    413\u001b[0m                 \u001b[0me\u001b[0m\u001b[0;34m.\u001b[0m\u001b[0mpatch_message\u001b[0m\u001b[0;34m(\u001b[0m\u001b[0mmsg\u001b[0m\u001b[0;34m)\u001b[0m\u001b[0;34m\u001b[0m\u001b[0;34m\u001b[0m\u001b[0m\n\u001b[1;32m    414\u001b[0m \u001b[0;34m\u001b[0m\u001b[0m\n\u001b[0;32m--> 415\u001b[0;31m             \u001b[0merror_rewrite\u001b[0m\u001b[0;34m(\u001b[0m\u001b[0me\u001b[0m\u001b[0;34m,\u001b[0m \u001b[0;34m'typing'\u001b[0m\u001b[0;34m)\u001b[0m\u001b[0;34m\u001b[0m\u001b[0;34m\u001b[0m\u001b[0m\n\u001b[0m\u001b[1;32m    416\u001b[0m         \u001b[0;32mexcept\u001b[0m \u001b[0merrors\u001b[0m\u001b[0;34m.\u001b[0m\u001b[0mUnsupportedError\u001b[0m \u001b[0;32mas\u001b[0m \u001b[0me\u001b[0m\u001b[0;34m:\u001b[0m\u001b[0;34m\u001b[0m\u001b[0;34m\u001b[0m\u001b[0m\n\u001b[1;32m    417\u001b[0m             \u001b[0;31m# Something unsupported is present in the user code, add help info\u001b[0m\u001b[0;34m\u001b[0m\u001b[0;34m\u001b[0m\u001b[0;34m\u001b[0m\u001b[0m\n",
      "\u001b[0;32m~/Code/article-rec-training-job/env/lib/python3.9/site-packages/numba/core/dispatcher.py\u001b[0m in \u001b[0;36merror_rewrite\u001b[0;34m(e, issue_type)\u001b[0m\n\u001b[1;32m    356\u001b[0m                 \u001b[0;32mraise\u001b[0m \u001b[0me\u001b[0m\u001b[0;34m\u001b[0m\u001b[0;34m\u001b[0m\u001b[0m\n\u001b[1;32m    357\u001b[0m             \u001b[0;32melse\u001b[0m\u001b[0;34m:\u001b[0m\u001b[0;34m\u001b[0m\u001b[0;34m\u001b[0m\u001b[0m\n\u001b[0;32m--> 358\u001b[0;31m                 \u001b[0mreraise\u001b[0m\u001b[0;34m(\u001b[0m\u001b[0mtype\u001b[0m\u001b[0;34m(\u001b[0m\u001b[0me\u001b[0m\u001b[0;34m)\u001b[0m\u001b[0;34m,\u001b[0m \u001b[0me\u001b[0m\u001b[0;34m,\u001b[0m \u001b[0;32mNone\u001b[0m\u001b[0;34m)\u001b[0m\u001b[0;34m\u001b[0m\u001b[0;34m\u001b[0m\u001b[0m\n\u001b[0m\u001b[1;32m    359\u001b[0m \u001b[0;34m\u001b[0m\u001b[0m\n\u001b[1;32m    360\u001b[0m         \u001b[0margtypes\u001b[0m \u001b[0;34m=\u001b[0m \u001b[0;34m[\u001b[0m\u001b[0;34m]\u001b[0m\u001b[0;34m\u001b[0m\u001b[0;34m\u001b[0m\u001b[0m\n",
      "\u001b[0;32m~/Code/article-rec-training-job/env/lib/python3.9/site-packages/numba/core/utils.py\u001b[0m in \u001b[0;36mreraise\u001b[0;34m(tp, value, tb)\u001b[0m\n\u001b[1;32m     78\u001b[0m         \u001b[0mvalue\u001b[0m \u001b[0;34m=\u001b[0m \u001b[0mtp\u001b[0m\u001b[0;34m(\u001b[0m\u001b[0;34m)\u001b[0m\u001b[0;34m\u001b[0m\u001b[0;34m\u001b[0m\u001b[0m\n\u001b[1;32m     79\u001b[0m     \u001b[0;32mif\u001b[0m \u001b[0mvalue\u001b[0m\u001b[0;34m.\u001b[0m\u001b[0m__traceback__\u001b[0m \u001b[0;32mis\u001b[0m \u001b[0;32mnot\u001b[0m \u001b[0mtb\u001b[0m\u001b[0;34m:\u001b[0m\u001b[0;34m\u001b[0m\u001b[0;34m\u001b[0m\u001b[0m\n\u001b[0;32m---> 80\u001b[0;31m         \u001b[0;32mraise\u001b[0m \u001b[0mvalue\u001b[0m\u001b[0;34m.\u001b[0m\u001b[0mwith_traceback\u001b[0m\u001b[0;34m(\u001b[0m\u001b[0mtb\u001b[0m\u001b[0;34m)\u001b[0m\u001b[0;34m\u001b[0m\u001b[0;34m\u001b[0m\u001b[0m\n\u001b[0m\u001b[1;32m     81\u001b[0m     \u001b[0;32mraise\u001b[0m \u001b[0mvalue\u001b[0m\u001b[0;34m\u001b[0m\u001b[0;34m\u001b[0m\u001b[0m\n\u001b[1;32m     82\u001b[0m \u001b[0;34m\u001b[0m\u001b[0m\n",
      "\u001b[0;31mTypingError\u001b[0m: Failed in nopython mode pipeline (step: nopython frontend)\nInternal error at <numba.core.typeinfer.CallConstraint object at 0x7fdc8cb83190>.\nFailed in nopython mode pipeline (step: analyzing bytecode)\nUse of unsupported opcode (IS_OP) found\n\nFile \"../env/lib/python3.9/site-packages/umap/nndescent.py\", line 38:\ndef init_rp_tree(data, dist, current_graph, leaf_array, tried=None):\n    if tried is None:\n    ^\n\nDuring: resolving callee type: type(CPUDispatcher(<function init_rp_tree at 0x7fe6faaa3040>))\nDuring: typing of call at /Users/ericbolton/Code/article-rec-training-job/env/lib/python3.9/site-packages/umap/nndescent.py (199)\n\nEnable logging at debug level for details.\n\nFile \"../env/lib/python3.9/site-packages/umap/nndescent.py\", line 199:\ndef nn_descent(\n    <source elided>\n    if rp_tree_init:\n        init_rp_tree(data, dist, current_graph, leaf_array, tried=tried)\n        ^\n"
     ]
    },
    {
     "name": "stdout",
     "output_type": "stream",
     "text": [
      "time: 23.9 s\n"
     ]
    }
   ],
   "source": [
    "from sklearn.decomposition import PCA\n",
    "from umap import UMAP\n",
    "\n",
    "X = np.array(snapshot_df)\n",
    "X -= X.min()\n",
    "X /= X.max()\n",
    "\n",
    "pca_model = PCA(n_components=100)\n",
    "umap_model = UMAP(n_components=1)\n",
    "\n",
    "X_100 = pca_model.fit_transform(X)\n",
    "X_1 = umap_model.fit_transform(X_100)\n",
    "X_1.shape\n",
    "\n",
    "XT_100 = pca_model.fit_transform(X.T)\n",
    "XT_1 = umap_model.fit_transform(XT_100)\n",
    "XT_1.shape\n",
    "\n",
    "# pca_model = PCA(n_components=1)\n",
    "# umap_model = UMAP(n_components=1)\n",
    "\n",
    "# X_1 = pca_model.fit_transform(X).reshape(-1)\n",
    "# X_1 = umap_model.fit_transform(X_100)\n",
    "# X_1.shape\n",
    "\n",
    "# XT_1 = pca_model.fit_transform(X.T).reshape(-1)\n",
    "# XT_1 = umap_model.fit_transform(XT_100)\n",
    "# XT_1.shape"
   ]
  },
  {
   "cell_type": "code",
   "execution_count": null,
   "metadata": {},
   "outputs": [],
   "source": [
    "best = 0\n",
    "for label in set(user_labels):\n",
    "    val = snapshot_df.loc[user_labels == label,:].sum(axis=1).mean()\n",
    "    if val > best:\n",
    "        best = val\n",
    "        label_one = label\n",
    "print(label_one)\n",
    "    \n",
    "print('--')\n",
    "best = 0\n",
    "for label in set(article_labels):\n",
    "    if sum(article_labels == label) < 2:\n",
    "        continue\n",
    "    val = snapshot_df[snapshot_df.columns[article_labels == label]].sum().mean()\n",
    "    if val > best:\n",
    "        best = val\n",
    "        label_two = label\n",
    "        \n",
    "print(label_two)\n",
    "    "
   ]
  },
  {
   "cell_type": "code",
   "execution_count": null,
   "metadata": {},
   "outputs": [],
   "source": [
    "from sklearn.cluster import KMeans\n",
    "\n",
    "kmeans_model = KMeans(n_clusters=16)\n",
    "kmeans_model.fit(X_100)\n",
    "user_labels = kmeans_model.labels_"
   ]
  },
  {
   "cell_type": "code",
   "execution_count": null,
   "metadata": {},
   "outputs": [],
   "source": [
    "order = np.argsort(X_1)\n",
    "index = user_labels == label_one\n",
    "user_label_df = snapshot_df.iloc[order]\n",
    "user_label_df = user_label_df.iloc[index[order]]"
   ]
  },
  {
   "cell_type": "code",
   "execution_count": null,
   "metadata": {},
   "outputs": [],
   "source": [
    "# kmeans_model.fit(XT_100)\n",
    "# article_labels = kmeans_model.labels_\n",
    "# for label_two in set(article_labels):\n",
    "order = np.argsort(XT_1)\n",
    "index = article_labels == label_two\n",
    "cols = user_label_df.columns[order][index[order]]\n",
    "label_df = user_label_df[cols]\n",
    "plot_label_df(label_df)\n",
    "plt.show()"
   ]
  },
  {
   "cell_type": "code",
   "execution_count": null,
   "metadata": {},
   "outputs": [],
   "source": [
    "np.argsort(X)"
   ]
  },
  {
   "cell_type": "code",
   "execution_count": 183,
   "metadata": {},
   "outputs": [
    {
     "data": {
      "text/plain": [
       "array([4.21e-03, 1.64e-01, 1.36e-04, 2.29e-03, 2.93e-03, 2.22e-01,\n",
       "       1.02e-02, 9.93e-02, 5.91e-01, 3.67e-01, 6.33e-01, 1.85e-01,\n",
       "       3.61e-03, 1.00e+00, 1.00e+00, 4.79e-03, 1.00e+00, 1.09e-01,\n",
       "       1.00e+00, 2.06e-01, 1.00e+00, 3.13e-01, 1.00e+00, 2.65e-02,\n",
       "       5.86e-01, 2.73e-01, 1.39e-01, 2.75e-01, 4.09e-01, 1.55e-01,\n",
       "       1.64e-01, 3.11e-03, 4.90e-01, 1.00e+00, 8.77e-01, 1.00e+00,\n",
       "       6.92e-01, 2.75e-02, 5.23e-02, 1.39e-02, 2.80e-02, 5.80e-01,\n",
       "       1.13e-01, 1.00e+00, 1.00e+00, 5.44e-01, 2.10e-02, 2.28e-01,\n",
       "       1.05e-01, 3.47e-01, 1.00e+00, 1.71e-01, 9.69e-02, 3.70e-03,\n",
       "       1.00e+00, 1.00e+00, 2.21e-01, 3.52e-01, 4.98e-02, 1.89e-01,\n",
       "       7.94e-02, 6.47e-02, 3.25e-02, 5.52e-03, 5.43e-03, 4.15e-03,\n",
       "       7.41e-01, 3.13e-01, 4.78e-01, 6.48e-01, 1.53e-01, 4.40e-03,\n",
       "       1.00e+00, 1.21e-02, 3.85e-02, 4.48e-01, 2.03e-01, 4.29e-01,\n",
       "       2.44e-01, 7.55e-01, 4.71e-01, 4.43e-01, 4.43e-01, 4.83e-02,\n",
       "       1.00e+00, 2.53e-01, 2.04e-02, 1.00e+00, 3.07e-03, 6.53e-01,\n",
       "       1.10e-01, 5.89e-02, 3.90e-01, 3.01e-02, 1.00e+00, 6.94e-02,\n",
       "       5.25e-02, 1.00e+00, 1.00e+00, 1.00e+00, 1.21e-01, 1.00e+00,\n",
       "       3.06e-03, 1.33e-01, 1.00e+00, 3.57e-01, 1.00e+00, 3.54e-01,\n",
       "       2.10e-02, 3.99e-02, 1.71e-03, 1.99e-01, 8.96e-02, 3.22e-03,\n",
       "       8.23e-01, 6.03e-03, 1.00e+00, 1.31e-01, 1.00e+00, 7.56e-03,\n",
       "       1.53e-01, 3.73e-03, 8.93e-02, 1.42e-02, 2.24e-02, 2.72e-01,\n",
       "       1.00e+00, 1.00e+00, 1.83e-01, 4.45e-01, 4.91e-01, 5.59e-01,\n",
       "       1.00e-02, 4.02e-01, 1.00e+00, 1.00e+00, 3.65e-01, 3.90e-01,\n",
       "       3.40e-01, 1.00e+00, 1.00e+00, 1.00e+00, 1.00e+00, 1.00e+00,\n",
       "       1.00e+00, 1.00e+00, 1.00e+00, 1.00e+00, 1.00e+00, 1.00e+00,\n",
       "       1.00e+00, 1.00e+00, 1.00e+00, 1.00e+00, 1.00e+00, 1.00e+00,\n",
       "       1.00e+00, 1.00e+00, 1.00e+00, 1.00e+00, 1.00e+00, 1.00e+00,\n",
       "       9.01e-01, 8.30e-01, 7.45e-01, 6.81e-01, 9.38e-01, 7.84e-01,\n",
       "       1.00e+00, 8.85e-01, 1.00e+00, 9.19e-02, 1.00e+00, 1.00e+00,\n",
       "       9.84e-02, 4.42e-02, 1.00e+00, 1.00e+00, 1.00e+00, 1.00e+00,\n",
       "       1.00e+00, 1.00e+00, 1.00e+00, 1.00e+00, 1.00e+00, 1.00e+00,\n",
       "       1.00e+00, 1.00e+00, 1.00e+00, 2.42e-01, 3.35e-01, 1.00e+00,\n",
       "       1.00e+00, 1.00e+00, 4.31e-01, 1.00e+00, 4.56e-01, 1.00e+00,\n",
       "       1.00e+00, 1.00e+00, 1.00e+00, 6.37e-01, 1.00e+00, 1.00e+00,\n",
       "       1.00e+00, 1.00e+00, 1.40e-06, 1.00e+00, 1.72e-01])"
      ]
     },
     "execution_count": 183,
     "metadata": {},
     "output_type": "execute_result"
    },
    {
     "name": "stdout",
     "output_type": "stream",
     "text": [
      "time: 63.2 ms\n"
     ]
    }
   ],
   "source": [
    "X_scaled[X_scaled > 0]"
   ]
  },
  {
   "cell_type": "code",
   "execution_count": 164,
   "metadata": {},
   "outputs": [
    {
     "name": "stdout",
     "output_type": "stream",
     "text": [
      "time: 26.4 ms\n"
     ]
    }
   ],
   "source": [
    "def plot_label_df(label_df):\n",
    "    X = np.array(label_df)\n",
    "    X_scaler = MinMaxScaler()\n",
    "    X_scaled = X_scaler.fit_transform(X)\n",
    "\n",
    "    fig, ax = plt.subplots(figsize=(20,30))\n",
    "    matplotlib.rcParams['xtick.major.size'] = 10\n",
    "    matplotlib.rcParams['xtick.minor.size'] = 5\n",
    "    plt.rc('xtick', labelsize='small')\n",
    "    plt.rc('ytick', labelsize='small')\n",
    "\n",
    "    _ = plt.xlabel(\"Articles\")\n",
    "    _ = plt.ylabel(\"Readers\")\n",
    "    _ = plt.title(\"User-Article Matrix: Time-Decayed Dwell Time\")\n",
    "\n",
    "    plt.imshow(X_scaled, cmap=plt.cm.Blues)"
   ]
  },
  {
   "cell_type": "code",
   "execution_count": null,
   "metadata": {},
   "outputs": [],
   "source": []
  }
 ],
 "metadata": {
  "kernelspec": {
   "display_name": "Python 3",
   "language": "python",
   "name": "python3"
  },
  "language_info": {
   "codemirror_mode": {
    "name": "ipython",
    "version": 3
   },
   "file_extension": ".py",
   "mimetype": "text/x-python",
   "name": "python",
   "nbconvert_exporter": "python",
   "pygments_lexer": "ipython3",
   "version": "3.9.0"
  }
 },
 "nbformat": 4,
 "nbformat_minor": 4
}
